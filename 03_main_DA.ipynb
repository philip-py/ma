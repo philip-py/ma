{
 "cells": [
  {
   "cell_type": "code",
   "execution_count": 1,
   "metadata": {},
   "outputs": [],
   "source": [
    "from pydantic import BaseModel\n",
    "from typing import List, Optional, Union, Set\n",
    "from app import create_app, db\n",
    "from app.models import Akteur\n",
    "from app.models import Doc as Document\n",
    "\n",
    "\n",
    "from pathlib import Path\n",
    "import seaborn as sns\n",
    "from logzero import setup_logger\n",
    "import os\n",
    "\n",
    "os.environ[\"FLASK_CONFIG\"] = 'development'\n",
    "\n",
    "app = create_app('default')\n",
    "app.app_context().push()"
   ]
  },
  {
   "cell_type": "code",
   "execution_count": 2,
   "metadata": {},
   "outputs": [
    {
     "data": {
      "text/plain": [
       "['CDU',\n",
       " 'CSU',\n",
       " 'SPD',\n",
       " 'DIE GRÜNEN',\n",
       " 'DIE LINKE',\n",
       " 'Parteilos',\n",
       " 'FDP',\n",
       " 'AfD',\n",
       " 'Die blaue Partei']"
      ]
     },
     "execution_count": 2,
     "metadata": {},
     "output_type": "execute_result"
    }
   ],
   "source": [
    "parties = db.session.execute(\"SELECT DISTINCT party FROM akteure;\")\n",
    "[i[0] for i in parties]"
   ]
  },
  {
   "cell_type": "code",
   "execution_count": 3,
   "metadata": {},
   "outputs": [
    {
     "data": {
      "text/plain": [
       "['achim kessler',\n",
       " 'achim post',\n",
       " 'afd partei',\n",
       " 'agnieszka brugger',\n",
       " 'albert rupprecht',\n",
       " 'albert stegemann',\n",
       " 'albert weiler',\n",
       " 'albrecht glaser',\n",
       " 'alexander dobrindt',\n",
       " 'alexander gauland']"
      ]
     },
     "execution_count": 3,
     "metadata": {},
     "output_type": "execute_result"
    }
   ],
   "source": [
    "akteure = db.session.execute(\"SELECT DISTINCT name FROM akteure;\")\n",
    "[i[0] for i in akteure][:10]"
   ]
  },
  {
   "cell_type": "code",
   "execution_count": 4,
   "metadata": {},
   "outputs": [
    {
     "data": {
      "text/plain": [
       "[1, 2, 3, 4, 5, 6, 7, 8, 9, 10]"
      ]
     },
     "execution_count": 4,
     "metadata": {},
     "output_type": "execute_result"
    }
   ],
   "source": [
    "docs = db.session.execute(\"SELECT id FROM docs;\")\n",
    "[i[0] for i in docs][:10]"
   ]
  },
  {
   "cell_type": "code",
   "execution_count": 5,
   "metadata": {},
   "outputs": [],
   "source": [
    "parties = ['CDU',\n",
    " 'CSU',\n",
    " 'SPD',\n",
    " 'DIE GRÜNEN',\n",
    " 'DIE LINKE',\n",
    " 'FDP',\n",
    " 'AfD',]"
   ]
  },
  {
   "cell_type": "code",
   "execution_count": 6,
   "metadata": {},
   "outputs": [
    {
     "ename": "KeyboardInterrupt",
     "evalue": "",
     "output_type": "error",
     "traceback": [
      "\u001b[0;31m---------------------------------------------------------------------------\u001b[0m",
      "\u001b[0;31mKeyboardInterrupt\u001b[0m                         Traceback (most recent call last)",
      "\u001b[0;32m<ipython-input-6-29920ef0ccc1>\u001b[0m in \u001b[0;36m<module>\u001b[0;34m\u001b[0m\n\u001b[1;32m     13\u001b[0m     }\n\u001b[1;32m     14\u001b[0m \u001b[0;34m\u001b[0m\u001b[0m\n\u001b[0;32m---> 15\u001b[0;31m     \u001b[0mdiscourse_analysis\u001b[0m \u001b[0;34m=\u001b[0m \u001b[0mAnalysisDiscourse\u001b[0m\u001b[0;34m(\u001b[0m\u001b[0mstrip_non_ascii\u001b[0m\u001b[0;34m(\u001b[0m\u001b[0;34mf'xps_{party}'\u001b[0m\u001b[0;34m)\u001b[0m\u001b[0;34m,\u001b[0m \u001b[0mConfigDiscourse\u001b[0m\u001b[0;34m(\u001b[0m\u001b[0;34m**\u001b[0m\u001b[0msettings_analysis\u001b[0m\u001b[0;34m)\u001b[0m\u001b[0;34m)\u001b[0m\u001b[0;34m\u001b[0m\u001b[0;34m\u001b[0m\u001b[0m\n\u001b[0m\u001b[1;32m     16\u001b[0m     \u001b[0mdiscourse_analysis\u001b[0m\u001b[0;34m(\u001b[0m\u001b[0;34m)\u001b[0m\u001b[0;34m\u001b[0m\u001b[0;34m\u001b[0m\u001b[0m\n",
      "\u001b[0;32m~/ma/app/src/d01_ana/diskurs.py\u001b[0m in \u001b[0;36m__init__\u001b[0;34m(self, dir, config)\u001b[0m\n\u001b[1;32m     68\u001b[0m \u001b[0;34m\u001b[0m\u001b[0m\n\u001b[1;32m     69\u001b[0m     \u001b[0;32mdef\u001b[0m \u001b[0m__init__\u001b[0m\u001b[0;34m(\u001b[0m\u001b[0mself\u001b[0m\u001b[0;34m,\u001b[0m \u001b[0mdir\u001b[0m\u001b[0;34m,\u001b[0m \u001b[0mconfig\u001b[0m\u001b[0;34m)\u001b[0m\u001b[0;34m:\u001b[0m\u001b[0;34m\u001b[0m\u001b[0;34m\u001b[0m\u001b[0m\n\u001b[0;32m---> 70\u001b[0;31m         \u001b[0msuper\u001b[0m\u001b[0;34m(\u001b[0m\u001b[0;34m)\u001b[0m\u001b[0;34m.\u001b[0m\u001b[0m__init__\u001b[0m\u001b[0;34m(\u001b[0m\u001b[0mdir\u001b[0m\u001b[0;34m,\u001b[0m \u001b[0mconfig\u001b[0m\u001b[0;34m)\u001b[0m\u001b[0;34m\u001b[0m\u001b[0;34m\u001b[0m\u001b[0m\n\u001b[0m\u001b[1;32m     71\u001b[0m         \u001b[0mself\u001b[0m\u001b[0;34m.\u001b[0m\u001b[0mnlp\u001b[0m \u001b[0;34m=\u001b[0m \u001b[0mspacy\u001b[0m\u001b[0;34m.\u001b[0m\u001b[0mload\u001b[0m\u001b[0;34m(\u001b[0m\u001b[0mconfig\u001b[0m\u001b[0;34m.\u001b[0m\u001b[0mnlp_model\u001b[0m\u001b[0;34m)\u001b[0m\u001b[0;34m\u001b[0m\u001b[0;34m\u001b[0m\u001b[0m\n\u001b[1;32m     72\u001b[0m         \u001b[0mself\u001b[0m\u001b[0;34m.\u001b[0m\u001b[0mbuild_pipeline\u001b[0m\u001b[0;34m(\u001b[0m\u001b[0mconfig\u001b[0m\u001b[0;34m.\u001b[0m\u001b[0mpipeline\u001b[0m\u001b[0;34m)\u001b[0m\u001b[0;34m\u001b[0m\u001b[0;34m\u001b[0m\u001b[0m\n",
      "\u001b[0;32m~/ma/app/src/d01_ana/analysis.py\u001b[0m in \u001b[0;36m__init__\u001b[0;34m(self, dir, config)\u001b[0m\n\u001b[1;32m     65\u001b[0m         self.logger = setup_logger(\n\u001b[1;32m     66\u001b[0m             logfile=self.logfile, disableStderrLogger=True)\n\u001b[0;32m---> 67\u001b[0;31m         \u001b[0mself\u001b[0m\u001b[0;34m.\u001b[0m\u001b[0mdoc_labels\u001b[0m\u001b[0;34m,\u001b[0m \u001b[0mself\u001b[0m\u001b[0;34m.\u001b[0m\u001b[0minput\u001b[0m \u001b[0;34m=\u001b[0m \u001b[0mself\u001b[0m\u001b[0;34m.\u001b[0m\u001b[0mload_data\u001b[0m\u001b[0;34m(\u001b[0m\u001b[0mconfig\u001b[0m\u001b[0;34m.\u001b[0m\u001b[0msample\u001b[0m\u001b[0;34m)\u001b[0m\u001b[0;34m\u001b[0m\u001b[0;34m\u001b[0m\u001b[0m\n\u001b[0m\u001b[1;32m     68\u001b[0m \u001b[0;34m\u001b[0m\u001b[0m\n\u001b[1;32m     69\u001b[0m         \u001b[0;32mif\u001b[0m \u001b[0mdir\u001b[0m \u001b[0;34m!=\u001b[0m \u001b[0;34m'test'\u001b[0m \u001b[0;32mand\u001b[0m \u001b[0mos\u001b[0m\u001b[0;34m.\u001b[0m\u001b[0mgetenv\u001b[0m\u001b[0;34m(\u001b[0m\u001b[0;34m'FLASK_CONFIG'\u001b[0m\u001b[0;34m)\u001b[0m \u001b[0;34m!=\u001b[0m \u001b[0;34m'testing'\u001b[0m\u001b[0;34m:\u001b[0m\u001b[0;34m\u001b[0m\u001b[0;34m\u001b[0m\u001b[0m\n",
      "\u001b[0;32m~/ma/app/src/d01_ana/analysis.py\u001b[0m in \u001b[0;36mload_data\u001b[0;34m(self, sample)\u001b[0m\n\u001b[1;32m     95\u001b[0m                 \u001b[0;31m# doc_labels = Document.query.filter_by(Document.corpus.in_(self.corpus.config)).all()\u001b[0m\u001b[0;34m\u001b[0m\u001b[0;34m\u001b[0m\u001b[0;34m\u001b[0m\u001b[0m\n\u001b[1;32m     96\u001b[0m             \u001b[0;32melse\u001b[0m\u001b[0;34m:\u001b[0m\u001b[0;34m\u001b[0m\u001b[0;34m\u001b[0m\u001b[0m\n\u001b[0;32m---> 97\u001b[0;31m                 \u001b[0mdoc_labels\u001b[0m \u001b[0;34m=\u001b[0m \u001b[0mdb\u001b[0m\u001b[0;34m.\u001b[0m\u001b[0msession\u001b[0m\u001b[0;34m.\u001b[0m\u001b[0mquery\u001b[0m\u001b[0;34m(\u001b[0m\u001b[0mDocument\u001b[0m\u001b[0;34m)\u001b[0m\u001b[0;34m.\u001b[0m\u001b[0mall\u001b[0m\u001b[0;34m(\u001b[0m\u001b[0;34m)\u001b[0m\u001b[0;34m\u001b[0m\u001b[0;34m\u001b[0m\u001b[0m\n\u001b[0m\u001b[1;32m     98\u001b[0m \u001b[0;34m\u001b[0m\u001b[0m\n\u001b[1;32m     99\u001b[0m         \u001b[0;32mif\u001b[0m \u001b[0mself\u001b[0m\u001b[0;34m.\u001b[0m\u001b[0mconfig\u001b[0m\u001b[0;34m.\u001b[0m\u001b[0mparty\u001b[0m\u001b[0;34m:\u001b[0m\u001b[0;34m\u001b[0m\u001b[0;34m\u001b[0m\u001b[0m\n",
      "\u001b[0;32m~/anaconda3/envs/dsc/lib/python3.7/site-packages/sqlalchemy/orm/query.py\u001b[0m in \u001b[0;36mall\u001b[0;34m(self)\u001b[0m\n\u001b[1;32m   3371\u001b[0m                 \u001b[0;34m:\u001b[0m\u001b[0mref\u001b[0m\u001b[0;34m:\u001b[0m\u001b[0;31m`\u001b[0m\u001b[0mfaq_query_deduplicating\u001b[0m\u001b[0;31m`\u001b[0m\u001b[0;34m\u001b[0m\u001b[0;34m\u001b[0m\u001b[0m\n\u001b[1;32m   3372\u001b[0m         \"\"\"\n\u001b[0;32m-> 3373\u001b[0;31m         \u001b[0;32mreturn\u001b[0m \u001b[0mlist\u001b[0m\u001b[0;34m(\u001b[0m\u001b[0mself\u001b[0m\u001b[0;34m)\u001b[0m\u001b[0;34m\u001b[0m\u001b[0;34m\u001b[0m\u001b[0m\n\u001b[0m\u001b[1;32m   3374\u001b[0m \u001b[0;34m\u001b[0m\u001b[0m\n\u001b[1;32m   3375\u001b[0m     \u001b[0;34m@\u001b[0m\u001b[0m_generative\u001b[0m\u001b[0;34m(\u001b[0m\u001b[0m_no_clauseelement_condition\u001b[0m\u001b[0;34m)\u001b[0m\u001b[0;34m\u001b[0m\u001b[0;34m\u001b[0m\u001b[0m\n",
      "\u001b[0;32m~/anaconda3/envs/dsc/lib/python3.7/site-packages/sqlalchemy/orm/loading.py\u001b[0m in \u001b[0;36minstances\u001b[0;34m(query, cursor, context)\u001b[0m\n\u001b[1;32m     78\u001b[0m             \u001b[0;32mif\u001b[0m \u001b[0msingle_entity\u001b[0m\u001b[0;34m:\u001b[0m\u001b[0;34m\u001b[0m\u001b[0;34m\u001b[0m\u001b[0m\n\u001b[1;32m     79\u001b[0m                 \u001b[0mproc\u001b[0m \u001b[0;34m=\u001b[0m \u001b[0mprocess\u001b[0m\u001b[0;34m[\u001b[0m\u001b[0;36m0\u001b[0m\u001b[0;34m]\u001b[0m\u001b[0;34m\u001b[0m\u001b[0;34m\u001b[0m\u001b[0m\n\u001b[0;32m---> 80\u001b[0;31m                 \u001b[0mrows\u001b[0m \u001b[0;34m=\u001b[0m \u001b[0;34m[\u001b[0m\u001b[0mproc\u001b[0m\u001b[0;34m(\u001b[0m\u001b[0mrow\u001b[0m\u001b[0;34m)\u001b[0m \u001b[0;32mfor\u001b[0m \u001b[0mrow\u001b[0m \u001b[0;32min\u001b[0m \u001b[0mfetch\u001b[0m\u001b[0;34m]\u001b[0m\u001b[0;34m\u001b[0m\u001b[0;34m\u001b[0m\u001b[0m\n\u001b[0m\u001b[1;32m     81\u001b[0m             \u001b[0;32melse\u001b[0m\u001b[0;34m:\u001b[0m\u001b[0;34m\u001b[0m\u001b[0;34m\u001b[0m\u001b[0m\n\u001b[1;32m     82\u001b[0m                 rows = [\n",
      "\u001b[0;32m~/anaconda3/envs/dsc/lib/python3.7/site-packages/sqlalchemy/orm/loading.py\u001b[0m in \u001b[0;36m<listcomp>\u001b[0;34m(.0)\u001b[0m\n\u001b[1;32m     78\u001b[0m             \u001b[0;32mif\u001b[0m \u001b[0msingle_entity\u001b[0m\u001b[0;34m:\u001b[0m\u001b[0;34m\u001b[0m\u001b[0;34m\u001b[0m\u001b[0m\n\u001b[1;32m     79\u001b[0m                 \u001b[0mproc\u001b[0m \u001b[0;34m=\u001b[0m \u001b[0mprocess\u001b[0m\u001b[0;34m[\u001b[0m\u001b[0;36m0\u001b[0m\u001b[0;34m]\u001b[0m\u001b[0;34m\u001b[0m\u001b[0;34m\u001b[0m\u001b[0m\n\u001b[0;32m---> 80\u001b[0;31m                 \u001b[0mrows\u001b[0m \u001b[0;34m=\u001b[0m \u001b[0;34m[\u001b[0m\u001b[0mproc\u001b[0m\u001b[0;34m(\u001b[0m\u001b[0mrow\u001b[0m\u001b[0;34m)\u001b[0m \u001b[0;32mfor\u001b[0m \u001b[0mrow\u001b[0m \u001b[0;32min\u001b[0m \u001b[0mfetch\u001b[0m\u001b[0;34m]\u001b[0m\u001b[0;34m\u001b[0m\u001b[0;34m\u001b[0m\u001b[0m\n\u001b[0m\u001b[1;32m     81\u001b[0m             \u001b[0;32melse\u001b[0m\u001b[0;34m:\u001b[0m\u001b[0;34m\u001b[0m\u001b[0;34m\u001b[0m\u001b[0m\n\u001b[1;32m     82\u001b[0m                 rows = [\n",
      "\u001b[0;32m~/anaconda3/envs/dsc/lib/python3.7/site-packages/sqlalchemy/orm/loading.py\u001b[0m in \u001b[0;36m_instance\u001b[0;34m(row)\u001b[0m\n\u001b[1;32m    552\u001b[0m                 \u001b[0mloaded_instance\u001b[0m \u001b[0;34m=\u001b[0m \u001b[0;32mTrue\u001b[0m\u001b[0;34m\u001b[0m\u001b[0;34m\u001b[0m\u001b[0m\n\u001b[1;32m    553\u001b[0m \u001b[0;34m\u001b[0m\u001b[0m\n\u001b[0;32m--> 554\u001b[0;31m                 \u001b[0minstance\u001b[0m \u001b[0;34m=\u001b[0m \u001b[0mmapper\u001b[0m\u001b[0;34m.\u001b[0m\u001b[0mclass_manager\u001b[0m\u001b[0;34m.\u001b[0m\u001b[0mnew_instance\u001b[0m\u001b[0;34m(\u001b[0m\u001b[0;34m)\u001b[0m\u001b[0;34m\u001b[0m\u001b[0;34m\u001b[0m\u001b[0m\n\u001b[0m\u001b[1;32m    555\u001b[0m \u001b[0;34m\u001b[0m\u001b[0m\n\u001b[1;32m    556\u001b[0m                 \u001b[0mdict_\u001b[0m \u001b[0;34m=\u001b[0m \u001b[0minstance_dict\u001b[0m\u001b[0;34m(\u001b[0m\u001b[0minstance\u001b[0m\u001b[0;34m)\u001b[0m\u001b[0;34m\u001b[0m\u001b[0;34m\u001b[0m\u001b[0m\n",
      "\u001b[0;32m~/anaconda3/envs/dsc/lib/python3.7/site-packages/sqlalchemy/orm/instrumentation.py\u001b[0m in \u001b[0;36mnew_instance\u001b[0;34m(self, state)\u001b[0m\n\u001b[1;32m    354\u001b[0m         \u001b[0;32mif\u001b[0m \u001b[0mstate\u001b[0m \u001b[0;32mis\u001b[0m \u001b[0;32mNone\u001b[0m\u001b[0;34m:\u001b[0m\u001b[0;34m\u001b[0m\u001b[0;34m\u001b[0m\u001b[0m\n\u001b[1;32m    355\u001b[0m             \u001b[0mstate\u001b[0m \u001b[0;34m=\u001b[0m \u001b[0mself\u001b[0m\u001b[0;34m.\u001b[0m\u001b[0m_state_constructor\u001b[0m\u001b[0;34m(\u001b[0m\u001b[0minstance\u001b[0m\u001b[0;34m,\u001b[0m \u001b[0mself\u001b[0m\u001b[0;34m)\u001b[0m\u001b[0;34m\u001b[0m\u001b[0;34m\u001b[0m\u001b[0m\n\u001b[0;32m--> 356\u001b[0;31m         \u001b[0mself\u001b[0m\u001b[0;34m.\u001b[0m\u001b[0m_state_setter\u001b[0m\u001b[0;34m(\u001b[0m\u001b[0minstance\u001b[0m\u001b[0;34m,\u001b[0m \u001b[0mstate\u001b[0m\u001b[0;34m)\u001b[0m\u001b[0;34m\u001b[0m\u001b[0;34m\u001b[0m\u001b[0m\n\u001b[0m\u001b[1;32m    357\u001b[0m         \u001b[0;32mreturn\u001b[0m \u001b[0minstance\u001b[0m\u001b[0;34m\u001b[0m\u001b[0;34m\u001b[0m\u001b[0m\n\u001b[1;32m    358\u001b[0m \u001b[0;34m\u001b[0m\u001b[0m\n",
      "\u001b[0;32m<string>\u001b[0m in \u001b[0;36mset\u001b[0;34m(obj, value)\u001b[0m\n",
      "\u001b[0;31mKeyboardInterrupt\u001b[0m: "
     ]
    }
   ],
   "source": [
    "from app.src.d01_ana.diskurs import ConfigDiscourse, AnalysisDiscourse\n",
    "from app.src.d00_utils import strip_non_ascii\n",
    "\n",
    "# parties = db.session.execute(\"SELECT DISTINCT party FROM akteure;\")\n",
    "for party in parties[::-1]:\n",
    "    settings_analysis = {\n",
    "        'debug': False,\n",
    "        'party': party,\n",
    "#         'sample': 100,\n",
    "        'corpus': [],\n",
    "        'niter': 1,\n",
    "        'alpha': 2e-2\n",
    "    }\n",
    "    \n",
    "    discourse_analysis = AnalysisDiscourse(strip_non_ascii(f'xps_{party}'), ConfigDiscourse(**settings_analysis))\n",
    "    discourse_analysis()"
   ]
  },
  {
   "cell_type": "code",
   "execution_count": null,
   "metadata": {},
   "outputs": [],
   "source": []
  },
  {
   "cell_type": "code",
   "execution_count": null,
   "metadata": {},
   "outputs": [],
   "source": []
  },
  {
   "cell_type": "code",
   "execution_count": null,
   "metadata": {},
   "outputs": [],
   "source": []
  },
  {
   "cell_type": "code",
   "execution_count": null,
   "metadata": {},
   "outputs": [],
   "source": []
  },
  {
   "cell_type": "raw",
   "metadata": {},
   "source": [
    "from gensim.models import KeyedVectors\n",
    "pre = KeyedVectors.load('embeddings/wiki100.wv')"
   ]
  },
  {
   "cell_type": "code",
   "execution_count": null,
   "metadata": {},
   "outputs": [
    {
     "name": "stdout",
     "output_type": "stream",
     "text": [
      "Number of documents: 1982\n",
      "Beginning Discourse Analysis with parameters: \n",
      "{'debug': False, 'sample': None, 'party': 'AfD', 'write_bin': False, 'nlp_model': 'de_core_news_lg', 'pipeline': ['disc'], 'corpus': ['plenar'], 'niter': 2, 'alpha': 0.02}\n",
      "total examples: 83085\n",
      "Seed in iteration 0: 410600\n",
      "Training with alpha 0.02:\n",
      "Epoch: 1 | Loss: 13378516.0\n",
      "Loss difference: 13378516.0\n",
      "saving best model in epoch 1 with loss 13378516.0\n"
     ]
    }
   ],
   "source": [
    "from app.src.d01_ana.diskurs import ConfigDiscourse, AnalysisDiscourse\n",
    "\n",
    "settings_analysis = {\n",
    "    'debug': False,\n",
    "    'party': 'AfD',\n",
    "    'sample': None,\n",
    "    'corpus': ['plenar'],\n",
    "    'niter': 2,\n",
    "    'alpha': 2e-2\n",
    "    }\n",
    "\n",
    "discourse_analysis = AnalysisDiscourse('afd_e2', ConfigDiscourse(**settings_analysis))\n",
    "discourse_analysis()"
   ]
  },
  {
   "cell_type": "code",
   "execution_count": 5,
   "metadata": {},
   "outputs": [
    {
     "name": "stdout",
     "output_type": "stream",
     "text": [
      "Number of documents: 1982\n",
      "Beginning Discourse Analysis with parameters: \n",
      "{'debug': False, 'sample': None, 'party': 'AfD', 'write_bin': False, 'nlp_model': 'de_core_news_lg', 'pipeline': ['disc'], 'corpus': ['plenar'], 'niter': 1, 'alpha': 0.02}\n",
      "total examples: 83085\n",
      "Seed in iteration 0: 516347\n",
      "Training with alpha 0.02:\n",
      "Epoch: 1 | Loss: 2363783.5\n",
      "Loss difference: 2363783.5\n",
      "saving best model in epoch 1 with loss 2363783.5\n",
      "Epoch: 2 | Loss: 2479480.5\n",
      "Loss difference: 115697.0\n",
      "Epoch: 3 | Loss: 2401999.0\n",
      "Loss difference: -77481.5\n",
      "Epoch: 4 | Loss: 2874737.0\n",
      "Loss difference: 472738.0\n",
      "Epoch: 5 | Loss: 3188113.0\n",
      "Loss difference: 313376.0\n",
      "Epoch: 6 | Loss: 3185959.0\n",
      "Loss difference: -2154.0\n",
      "Epoch: 7 | Loss: 1529770.0\n",
      "Loss difference: -1656189.0\n",
      "saving best model in epoch 7 with loss 1529770.0\n",
      "Epoch: 8 | Loss: 1482346.0\n",
      "Loss difference: -47424.0\n",
      "saving best model in epoch 8 with loss 1482346.0\n",
      "Epoch: 9 | Loss: 1594484.0\n",
      "Loss difference: 112138.0\n",
      "Epoch: 10 | Loss: 1709472.0\n",
      "Loss difference: 114988.0\n",
      "Epoch: 11 | Loss: 1820082.0\n",
      "Loss difference: 110610.0\n",
      "Epoch: 12 | Loss: 1940590.0\n",
      "Loss difference: 120508.0\n",
      "Epoch: 13 | Loss: 2075216.0\n",
      "Loss difference: 134626.0\n",
      "Epoch: 14 | Loss: 2212974.0\n",
      "Loss difference: 137758.0\n",
      "Epoch: 15 | Loss: 2348144.0\n",
      "Loss difference: 135170.0\n",
      "Epoch: 16 | Loss: 1145846.0\n",
      "Loss difference: -1202298.0\n",
      "saving best model in epoch 16 with loss 1145846.0\n",
      "Epoch: 17 | Loss: 1024848.0\n",
      "Loss difference: -120998.0\n",
      "saving best model in epoch 17 with loss 1024848.0\n",
      "Epoch: 18 | Loss: 1130744.0\n",
      "Loss difference: 105896.0\n",
      "Epoch: 19 | Loss: 1233048.0\n",
      "Loss difference: 102304.0\n",
      "Epoch: 20 | Loss: 1337124.0\n",
      "Loss difference: 104076.0\n",
      "Epoch: 21 | Loss: 1433900.0\n",
      "Loss difference: 96776.0\n",
      "Epoch: 22 | Loss: 1532244.0\n",
      "Loss difference: 98344.0\n",
      "Epoch: 23 | Loss: 1635348.0\n",
      "Loss difference: 103104.0\n",
      "Epoch: 24 | Loss: 1740596.0\n",
      "Loss difference: 105248.0\n",
      "Epoch: 25 | Loss: 1848032.0\n",
      "Loss difference: 107436.0\n",
      "Epoch: 26 | Loss: 1942480.0\n",
      "Loss difference: 94448.0\n",
      "Epoch: 27 | Loss: 2034992.0\n",
      "Loss difference: 92512.0\n",
      "Epoch: 28 | Loss: 2122016.0\n",
      "Loss difference: 87024.0\n",
      "Epoch: 29 | Loss: 2203272.0\n",
      "Loss difference: 81256.0\n",
      "Epoch: 30 | Loss: 2284088.0\n",
      "Loss difference: 80816.0\n",
      "Epoch: 31 | Loss: 2376500.0\n",
      "Loss difference: 92412.0\n",
      "Epoch: 32 | Loss: 2462148.0\n",
      "Loss difference: 85648.0\n",
      "Epoch: 33 | Loss: 2513112.0\n",
      "Loss difference: 50964.0\n",
      "Epoch: 34 | Loss: 2098032.0\n",
      "Loss difference: -415080.0\n",
      "Epoch: 35 | Loss: 761120.0\n",
      "Loss difference: -1336912.0\n",
      "saving best model in epoch 35 with loss 761120.0\n",
      "Epoch: 36 | Loss: 788704.0\n",
      "Loss difference: 27584.0\n",
      "Epoch: 37 | Loss: 825640.0\n",
      "Loss difference: 36936.0\n",
      "Epoch: 38 | Loss: 870744.0\n",
      "Loss difference: 45104.0\n",
      "Epoch: 39 | Loss: 910208.0\n",
      "Loss difference: 39464.0\n",
      "Epoch: 40 | Loss: 943248.0\n",
      "Loss difference: 33040.0\n",
      "Epoch: 41 | Loss: 976768.0\n",
      "Loss difference: 33520.0\n",
      "Epoch: 42 | Loss: 1007416.0\n",
      "Loss difference: 30648.0\n",
      "Epoch: 43 | Loss: 1050288.0\n",
      "Loss difference: 42872.0\n",
      "Epoch: 44 | Loss: 1074424.0\n",
      "Loss difference: 24136.0\n",
      "Epoch: 45 | Loss: 1111928.0\n",
      "Loss difference: 37504.0\n",
      "Epoch: 46 | Loss: 1151760.0\n",
      "Loss difference: 39832.0\n",
      "Epoch: 47 | Loss: 1176152.0\n",
      "Loss difference: 24392.0\n",
      "Epoch: 48 | Loss: 1197904.0\n",
      "Loss difference: 21752.0\n",
      "Epoch: 49 | Loss: 1244872.0\n",
      "Loss difference: 46968.0\n",
      "Epoch: 50 | Loss: 1266168.0\n",
      "Loss difference: 21296.0\n",
      "Epoch: 51 | Loss: 1288848.0\n",
      "Loss difference: 22680.0\n",
      "Epoch: 52 | Loss: 1318640.0\n",
      "Loss difference: 29792.0\n",
      "Epoch: 53 | Loss: 1347288.0\n",
      "Loss difference: 28648.0\n",
      "Epoch: 54 | Loss: 1378400.0\n",
      "Loss difference: 31112.0\n",
      "Epoch: 55 | Loss: 1384376.0\n",
      "Loss difference: 5976.0\n",
      "Epoch: 56 | Loss: 1410288.0\n",
      "Loss difference: 25912.0\n",
      "Epoch: 57 | Loss: 1429920.0\n",
      "Loss difference: 19632.0\n",
      "Epoch: 58 | Loss: 1466776.0\n",
      "Loss difference: 36856.0\n",
      "Epoch: 59 | Loss: 1477664.0\n",
      "Loss difference: 10888.0\n",
      "Epoch: 60 | Loss: 1488168.0\n",
      "Loss difference: 10504.0\n",
      "Epoch: 61 | Loss: 1518152.0\n",
      "Loss difference: 29984.0\n",
      "Epoch: 62 | Loss: 1531432.0\n",
      "Loss difference: 13280.0\n",
      "Epoch: 63 | Loss: 1555248.0\n",
      "Loss difference: 23816.0\n",
      "Epoch: 64 | Loss: 1553256.0\n",
      "Loss difference: -1992.0\n",
      "Epoch: 65 | Loss: 1576328.0\n",
      "Loss difference: 23072.0\n",
      "Epoch: 66 | Loss: 1603136.0\n",
      "Loss difference: 26808.0\n",
      "Epoch: 67 | Loss: 1614400.0\n",
      "Loss difference: 11264.0\n",
      "Epoch: 68 | Loss: 1634536.0\n",
      "Loss difference: 20136.0\n",
      "Epoch: 69 | Loss: 1631592.0\n",
      "Loss difference: -2944.0\n",
      "Epoch: 70 | Loss: 1651240.0\n",
      "Loss difference: 19648.0\n",
      "Epoch: 71 | Loss: 1676336.0\n",
      "Loss difference: 25096.0\n",
      "Epoch: 72 | Loss: 1680480.0\n",
      "Loss difference: 4144.0\n",
      "Epoch: 73 | Loss: 1697232.0\n",
      "Loss difference: 16752.0\n",
      "Epoch: 74 | Loss: 1705248.0\n",
      "Loss difference: 8016.0\n",
      "Epoch: 75 | Loss: 1723424.0\n",
      "Loss difference: 18176.0\n",
      "Epoch: 76 | Loss: 1736744.0\n",
      "Loss difference: 13320.0\n",
      "Epoch: 77 | Loss: 1740216.0\n",
      "Loss difference: 3472.0\n",
      "Epoch: 78 | Loss: 1744880.0\n",
      "Loss difference: 4664.0\n",
      "Epoch: 79 | Loss: 1747608.0\n",
      "Loss difference: 2728.0\n",
      "Epoch: 80 | Loss: 1763856.0\n",
      "Loss difference: 16248.0\n",
      "Epoch: 81 | Loss: 1775656.0\n",
      "Loss difference: 11800.0\n",
      "Epoch: 82 | Loss: 1703496.0\n",
      "Loss difference: -72160.0\n",
      "Epoch: 83 | Loss: 0.0\n",
      "Loss difference: -1703496.0\n",
      "saving best model in epoch 83 with loss 0.0\n"
     ]
    },
    {
     "data": {
      "image/png": "[encoded data removed]",
      "text/plain": [
       "<Figure size 432x288 with 1 Axes>"
      ]
     },
     "metadata": {
      "needs_background": "light"
     },
     "output_type": "display_data"
    },
    {
     "name": "stdout",
     "output_type": "stream",
     "text": [
      "End of Iteration: 0\n",
      "Discourse Analysis complete. \n",
      "Results saved in res/afd_e2_00/emb/...\n"
     ]
    }
   ],
   "source": [
    "from app.src.d01_ana.diskurs import ConfigDiscourse, AnalysisDiscourse\n",
    "\n",
    "settings_analysis = {\n",
    "    'debug': False,\n",
    "    'party': 'AfD',\n",
    "    'sample': None,\n",
    "    'corpus': ['plenar'],\n",
    "    'niter': 2,\n",
    "    'alpha': 2e-2\n",
    "    }\n",
    "\n",
    "discourse_analysis = AnalysisDiscourse('afd_e2_00', ConfigDiscourse(**settings_analysis))\n",
    "discourse_analysis()"
   ]
  },
  {
   "cell_type": "code",
   "execution_count": 6,
   "metadata": {},
   "outputs": [],
   "source": [
    "from app.src.d01_ana.diskurs import load_models, merge_embeddings\n",
    "afd = merge_embeddings(load_models('corpus_AfD', 'AfD', 0))\n",
    "linke = merge_embeddings(load_models('corpus_DIE LINKE', 'DIE LINKE', 0))"
   ]
  },
  {
   "cell_type": "code",
   "execution_count": null,
   "metadata": {},
   "outputs": [],
   "source": [
    "# beispiele: flüchtling => muslimisch, greta, eu"
   ]
  },
  {
   "cell_type": "code",
   "execution_count": 41,
   "metadata": {},
   "outputs": [
    {
     "data": {
      "text/plain": [
       "[('coronavirus', 0.8204626441001892),\n",
       " ('corona', 0.7234281301498413),\n",
       " ('coronavirusde', 0.6590244174003601),\n",
       " ('pandemie', 0.636387288570404),\n",
       " ('virus', 0.6256230473518372),\n",
       " ('coronapandemie', 0.6238465905189514),\n",
       " ('rki', 0.6039702296257019),\n",
       " ('coronakrise', 0.592658281326294),\n",
       " ('coronavirusdeutschland', 0.585544228553772),\n",
       " ('lockdown', 0.5821459889411926),\n",
       " ('shutdown', 0.5495396852493286),\n",
       " ('coronadeutschland', 0.5447360277175903),\n",
       " ('infektion', 0.5387226939201355),\n",
       " ('test', 0.5214454531669617),\n",
       " ('krise', 0.5203875303268433),\n",
       " ('erkranken', 0.5165655612945557),\n",
       " ('epidemie', 0.49135419726371765),\n",
       " ('taiwan', 0.4889797270298004),\n",
       " ('eindämmung', 0.47626739740371704),\n",
       " ('testen', 0.47211575508117676),\n",
       " ('ausbreitung', 0.46859338879585266),\n",
       " ('lockdowns', 0.4635169506072998),\n",
       " ('who', 0.46081557869911194),\n",
       " ('drosten', 0.4571598470211029),\n",
       " ('bewältigung', 0.4531274735927582),\n",
       " ('impfzwang', 0.4530617594718933),\n",
       " ('impfstoff', 0.4528917074203491),\n",
       " ('asp', 0.4446054697036743),\n",
       " ('app', 0.4442383646965027),\n",
       " ('erkrankung', 0.44163110852241516),\n",
       " ('wirtschaftskrise', 0.421734482049942),\n",
       " ('ausgangssperre', 0.41055116057395935),\n",
       " ('maßnahme', 0.41010966897010803),\n",
       " ('impfpflicht', 0.40020740032196045),\n",
       " ('spahn', 0.3873384892940521),\n",
       " ('infolge', 0.3852861523628235),\n",
       " ('seuche', 0.3844068944454193),\n",
       " ('panik', 0.3833436667919159),\n",
       " ('betreffen', 0.37371617555618286),\n",
       " ('rezession', 0.37313175201416016),\n",
       " ('nebenwirkung', 0.37135493755340576),\n",
       " ('impfung', 0.3699999749660492),\n",
       " ('schulschließungen', 0.36969244480133057),\n",
       " ('teammünzenmaier', 0.3687064051628113),\n",
       " ('möglicherweise', 0.3656538724899292),\n",
       " ('krankheit', 0.3633235991001129),\n",
       " ('bedingt', 0.3623003363609314),\n",
       " ('pcr', 0.36215752363204956),\n",
       " ('quarantäne', 0.3620412349700928),\n",
       " ('gesundheitlich', 0.36111220717430115)]"
      ]
     },
     "execution_count": 41,
     "metadata": {},
     "output_type": "execute_result"
    }
   ],
   "source": [
    "afd.wv.most_similar('covid', topn=50)"
   ]
  },
  {
   "cell_type": "code",
   "execution_count": 39,
   "metadata": {},
   "outputs": [
    {
     "data": {
      "text/plain": [
       "[('religionsgemeinschaft', 0.5460195541381836),\n",
       " ('mitbürger', 0.5078687071800232),\n",
       " ('religiös', 0.48843467235565186),\n",
       " ('jesidisch', 0.48197537660598755),\n",
       " ('mädchen', 0.47143691778182983),\n",
       " ('katholik', 0.4708557426929474),\n",
       " ('homosexuelle', 0.4669414460659027),\n",
       " ('jüdisch', 0.46134981513023376),\n",
       " ('kirchlich', 0.45772379636764526),\n",
       " ('verband', 0.4572468400001526),\n",
       " ('gruppe', 0.4442695677280426),\n",
       " ('minderheit', 0.44236326217651367),\n",
       " ('synagoge', 0.4405677616596222),\n",
       " ('benachteiligung', 0.43973395228385925),\n",
       " ('religions', 0.43856245279312134),\n",
       " ('rohingya', 0.43836474418640137),\n",
       " ('katholisch', 0.43265530467033386),\n",
       " ('mann', 0.4193218946456909),\n",
       " ('muslim', 0.4177837669849396),\n",
       " ('repräsentant', 0.41148319840431213),\n",
       " ('benachteiligen', 0.40522876381874084),\n",
       " ('christlich', 0.3957989811897278),\n",
       " ('christchurch', 0.3895948529243469),\n",
       " ('herkunft', 0.38916662335395813),\n",
       " ('kopftuch', 0.38857918977737427),\n",
       " ('unmittelbar', 0.3818233013153076),\n",
       " ('jude', 0.38084033131599426),\n",
       " ('alevitisch', 0.3797818720340729),\n",
       " ('evangelisch', 0.37769705057144165),\n",
       " ('muenchen', 0.3742389380931854),\n",
       " ('tschad', 0.3741188943386078),\n",
       " ('abendland', 0.37275445461273193),\n",
       " ('gewaltsam', 0.3723820149898529),\n",
       " ('kirche', 0.3704996407032013),\n",
       " ('weltbild', 0.3695234954357147),\n",
       " ('einwohnerinnen', 0.3683328926563263),\n",
       " ('ministerpräsidentin', 0.36688315868377686),\n",
       " ('vergewaltigen', 0.3658919334411621),\n",
       " ('antisemitisch', 0.36321231722831726),\n",
       " ('getötet', 0.3626246154308319),\n",
       " ('queer', 0.3619336783885956),\n",
       " ('ethnisch', 0.3610265254974365),\n",
       " ('verprügeln', 0.36056962609291077),\n",
       " ('armenisch', 0.3601115047931671),\n",
       " ('diskriminieren', 0.35849130153656006),\n",
       " ('schwul', 0.358010470867157),\n",
       " ('übergriff', 0.3568287193775177),\n",
       " ('divers', 0.35550451278686523),\n",
       " ('ermordung', 0.35467469692230225),\n",
       " ('ermordet', 0.3536672592163086)]"
      ]
     },
     "execution_count": 39,
     "metadata": {},
     "output_type": "execute_result"
    }
   ],
   "source": [
    "linke.wv.most_similar('muslimisch', topn=50)"
   ]
  },
  {
   "cell_type": "code",
   "execution_count": 13,
   "metadata": {},
   "outputs": [
    {
     "data": {
      "text/plain": [
       "[('bundeskanzlerin', 0.5095767974853516),\n",
       " ('angela', 0.4930284023284912),\n",
       " ('denken', 0.4398435652256012),\n",
       " ('gedanke', 0.41119757294654846),\n",
       " ('erwähnen', 0.4046837091445923),\n",
       " ('macron', 0.40284088253974915),\n",
       " ('deutsche', 0.3980730175971985),\n",
       " ('cdu', 0.3965986967086792),\n",
       " ('ausstehen', 0.3964647352695465),\n",
       " ('verhandeln', 0.3925127387046814)]"
      ]
     },
     "execution_count": 13,
     "metadata": {},
     "output_type": "execute_result"
    }
   ],
   "source": [
    "afd.wv.most_similar('merkel')"
   ]
  },
  {
   "cell_type": "code",
   "execution_count": 5,
   "metadata": {},
   "outputs": [
    {
     "data": {
      "text/plain": [
       "[('stemmen', 0.3393068015575409),\n",
       " ('ausgeprägt', 0.3384630084037781),\n",
       " ('unterschrift', 0.32691940665245056),\n",
       " ('weber', 0.3194568455219269),\n",
       " ('betroffen', 0.31596729159355164),\n",
       " ('siedlungsgebiet', 0.3147773742675781),\n",
       " ('kairoer', 0.31320494413375854),\n",
       " ('nachmittag', 0.30827680230140686),\n",
       " ('internet', 0.3072393834590912),\n",
       " ('frist', 0.30292680859565735)]"
      ]
     },
     "execution_count": 5,
     "metadata": {},
     "output_type": "execute_result"
    }
   ],
   "source": [
    "afd.wv.most_similar('merkel')"
   ]
  },
  {
   "cell_type": "code",
   "execution_count": null,
   "metadata": {},
   "outputs": [],
   "source": []
  },
  {
   "cell_type": "code",
   "execution_count": null,
   "metadata": {},
   "outputs": [],
   "source": [
    "discourse_analysis.doc_labels[3125].autor.byear"
   ]
  },
  {
   "cell_type": "code",
   "execution_count": 3,
   "metadata": {},
   "outputs": [
    {
     "ename": "DatabaseError",
     "evalue": "(sqlite3.DatabaseError) database disk image is malformed\n(Background on this error at: http://sqlalche.me/e/13/4xp6)",
     "output_type": "error",
     "traceback": [
      "\u001b[0;31m---------------------------------------------------------------------------\u001b[0m",
      "\u001b[0;31mDatabaseError\u001b[0m                             Traceback (most recent call last)",
      "\u001b[0;32m/usr/local/lib/python3.6/dist-packages/sqlalchemy/engine/result.py\u001b[0m in \u001b[0;36mfetchall\u001b[0;34m(self)\u001b[0m\n\u001b[1;32m   1283\u001b[0m         \u001b[0;32mtry\u001b[0m\u001b[0;34m:\u001b[0m\u001b[0;34m\u001b[0m\u001b[0;34m\u001b[0m\u001b[0m\n\u001b[0;32m-> 1284\u001b[0;31m             \u001b[0ml\u001b[0m \u001b[0;34m=\u001b[0m \u001b[0mself\u001b[0m\u001b[0;34m.\u001b[0m\u001b[0mprocess_rows\u001b[0m\u001b[0;34m(\u001b[0m\u001b[0mself\u001b[0m\u001b[0;34m.\u001b[0m\u001b[0m_fetchall_impl\u001b[0m\u001b[0;34m(\u001b[0m\u001b[0;34m)\u001b[0m\u001b[0;34m)\u001b[0m\u001b[0;34m\u001b[0m\u001b[0;34m\u001b[0m\u001b[0m\n\u001b[0m\u001b[1;32m   1285\u001b[0m             \u001b[0mself\u001b[0m\u001b[0;34m.\u001b[0m\u001b[0m_soft_close\u001b[0m\u001b[0;34m(\u001b[0m\u001b[0;34m)\u001b[0m\u001b[0;34m\u001b[0m\u001b[0;34m\u001b[0m\u001b[0m\n",
      "\u001b[0;32m/usr/local/lib/python3.6/dist-packages/sqlalchemy/engine/result.py\u001b[0m in \u001b[0;36m_fetchall_impl\u001b[0;34m(self)\u001b[0m\n\u001b[1;32m   1229\u001b[0m         \u001b[0;32mtry\u001b[0m\u001b[0;34m:\u001b[0m\u001b[0;34m\u001b[0m\u001b[0;34m\u001b[0m\u001b[0m\n\u001b[0;32m-> 1230\u001b[0;31m             \u001b[0;32mreturn\u001b[0m \u001b[0mself\u001b[0m\u001b[0;34m.\u001b[0m\u001b[0mcursor\u001b[0m\u001b[0;34m.\u001b[0m\u001b[0mfetchall\u001b[0m\u001b[0;34m(\u001b[0m\u001b[0;34m)\u001b[0m\u001b[0;34m\u001b[0m\u001b[0;34m\u001b[0m\u001b[0m\n\u001b[0m\u001b[1;32m   1231\u001b[0m         \u001b[0;32mexcept\u001b[0m \u001b[0mAttributeError\u001b[0m \u001b[0;32mas\u001b[0m \u001b[0merr\u001b[0m\u001b[0;34m:\u001b[0m\u001b[0;34m\u001b[0m\u001b[0;34m\u001b[0m\u001b[0m\n",
      "\u001b[0;31mDatabaseError\u001b[0m: database disk image is malformed",
      "\nThe above exception was the direct cause of the following exception:\n",
      "\u001b[0;31mDatabaseError\u001b[0m                             Traceback (most recent call last)",
      "\u001b[0;32m<ipython-input-3-9c5fb8f21b55>\u001b[0m in \u001b[0;36m<module>\u001b[0;34m\u001b[0m\n\u001b[1;32m      9\u001b[0m     }\n\u001b[1;32m     10\u001b[0m \u001b[0;34m\u001b[0m\u001b[0m\n\u001b[0;32m---> 11\u001b[0;31m \u001b[0mcontent_analysis\u001b[0m \u001b[0;34m=\u001b[0m \u001b[0mAnalysis\u001b[0m\u001b[0;34m(\u001b[0m\u001b[0;34m'test'\u001b[0m\u001b[0;34m,\u001b[0m \u001b[0mConfig\u001b[0m\u001b[0;34m(\u001b[0m\u001b[0;34m**\u001b[0m\u001b[0msettings_analysis\u001b[0m\u001b[0;34m)\u001b[0m\u001b[0;34m)\u001b[0m\u001b[0;34m\u001b[0m\u001b[0;34m\u001b[0m\u001b[0m\n\u001b[0m\u001b[1;32m     12\u001b[0m \u001b[0mcontent_analysis\u001b[0m\u001b[0;34m(\u001b[0m\u001b[0mto_disk\u001b[0m\u001b[0;34m=\u001b[0m\u001b[0;32mFalse\u001b[0m\u001b[0;34m,\u001b[0m \u001b[0mto_db\u001b[0m\u001b[0;34m=\u001b[0m\u001b[0;32mTrue\u001b[0m\u001b[0;34m)\u001b[0m\u001b[0;34m\u001b[0m\u001b[0;34m\u001b[0m\u001b[0m\n\u001b[1;32m     13\u001b[0m \u001b[0mres\u001b[0m \u001b[0;34m=\u001b[0m \u001b[0mcontent_analysis\u001b[0m\u001b[0;34m.\u001b[0m\u001b[0mget_results\u001b[0m\u001b[0;34m(\u001b[0m\u001b[0;34m)\u001b[0m\u001b[0;34m\u001b[0m\u001b[0;34m\u001b[0m\u001b[0m\n",
      "\u001b[0;32m/storage/diskur.se/app/src/d01_ana/analysis.py\u001b[0m in \u001b[0;36m__init__\u001b[0;34m(self, dir, config)\u001b[0m\n\u001b[1;32m    107\u001b[0m \u001b[0;34m\u001b[0m\u001b[0m\n\u001b[1;32m    108\u001b[0m     \u001b[0;32mdef\u001b[0m \u001b[0m__init__\u001b[0m\u001b[0;34m(\u001b[0m\u001b[0mself\u001b[0m\u001b[0;34m,\u001b[0m \u001b[0mdir\u001b[0m\u001b[0;34m,\u001b[0m \u001b[0mconfig\u001b[0m\u001b[0;34m)\u001b[0m\u001b[0;34m:\u001b[0m\u001b[0;34m\u001b[0m\u001b[0;34m\u001b[0m\u001b[0m\n\u001b[0;32m--> 109\u001b[0;31m         \u001b[0msuper\u001b[0m\u001b[0;34m(\u001b[0m\u001b[0;34m)\u001b[0m\u001b[0;34m.\u001b[0m\u001b[0m__init__\u001b[0m\u001b[0;34m(\u001b[0m\u001b[0mdir\u001b[0m\u001b[0;34m,\u001b[0m \u001b[0mconfig\u001b[0m\u001b[0;34m)\u001b[0m\u001b[0;34m\u001b[0m\u001b[0;34m\u001b[0m\u001b[0m\n\u001b[0m\u001b[1;32m    110\u001b[0m         \u001b[0mself\u001b[0m\u001b[0;34m.\u001b[0m\u001b[0mnlp\u001b[0m \u001b[0;34m=\u001b[0m \u001b[0mspacy\u001b[0m\u001b[0;34m.\u001b[0m\u001b[0mload\u001b[0m\u001b[0;34m(\u001b[0m\u001b[0mconfig\u001b[0m\u001b[0;34m.\u001b[0m\u001b[0mnlp_model\u001b[0m\u001b[0;34m)\u001b[0m\u001b[0;34m\u001b[0m\u001b[0;34m\u001b[0m\u001b[0m\n\u001b[1;32m    111\u001b[0m         \u001b[0mself\u001b[0m\u001b[0;34m.\u001b[0m\u001b[0mbuild_pipeline\u001b[0m\u001b[0;34m(\u001b[0m\u001b[0mconfig\u001b[0m\u001b[0;34m.\u001b[0m\u001b[0mpipeline\u001b[0m\u001b[0;34m)\u001b[0m\u001b[0;34m\u001b[0m\u001b[0;34m\u001b[0m\u001b[0m\n",
      "\u001b[0;32m/storage/diskur.se/app/src/d01_ana/analysis.py\u001b[0m in \u001b[0;36m__init__\u001b[0;34m(self, dir, config)\u001b[0m\n\u001b[1;32m     63\u001b[0m         self.logger = setup_logger(\n\u001b[1;32m     64\u001b[0m             logfile=self.logfile, disableStderrLogger=True)\n\u001b[0;32m---> 65\u001b[0;31m         \u001b[0mself\u001b[0m\u001b[0;34m.\u001b[0m\u001b[0mdoc_labels\u001b[0m\u001b[0;34m,\u001b[0m \u001b[0mself\u001b[0m\u001b[0;34m.\u001b[0m\u001b[0minput\u001b[0m \u001b[0;34m=\u001b[0m \u001b[0mself\u001b[0m\u001b[0;34m.\u001b[0m\u001b[0mload_data\u001b[0m\u001b[0;34m(\u001b[0m\u001b[0mconfig\u001b[0m\u001b[0;34m.\u001b[0m\u001b[0msample\u001b[0m\u001b[0;34m)\u001b[0m\u001b[0;34m\u001b[0m\u001b[0;34m\u001b[0m\u001b[0m\n\u001b[0m\u001b[1;32m     66\u001b[0m \u001b[0;34m\u001b[0m\u001b[0m\n\u001b[1;32m     67\u001b[0m         \u001b[0;32mif\u001b[0m \u001b[0mdir\u001b[0m \u001b[0;34m!=\u001b[0m \u001b[0;34m'test'\u001b[0m\u001b[0;34m:\u001b[0m\u001b[0;34m\u001b[0m\u001b[0;34m\u001b[0m\u001b[0m\n",
      "\u001b[0;32m/storage/diskur.se/app/src/d01_ana/analysis.py\u001b[0m in \u001b[0;36mload_data\u001b[0;34m(self, sample)\u001b[0m\n\u001b[1;32m     90\u001b[0m             \u001b[0;32mif\u001b[0m \u001b[0mself\u001b[0m\u001b[0;34m.\u001b[0m\u001b[0mconfig\u001b[0m\u001b[0;34m.\u001b[0m\u001b[0mcorpus\u001b[0m\u001b[0;34m:\u001b[0m\u001b[0;34m\u001b[0m\u001b[0;34m\u001b[0m\u001b[0m\n\u001b[1;32m     91\u001b[0m                 doc_labels = db.session.query(Document).filter(\n\u001b[0;32m---> 92\u001b[0;31m                     Document.corpus.in_(self.config.corpus)).all()\n\u001b[0m\u001b[1;32m     93\u001b[0m                 \u001b[0;31m# doc_labels = Document.query.filter_by(Document.corpus.in_(self.corpus.config)).all()\u001b[0m\u001b[0;34m\u001b[0m\u001b[0;34m\u001b[0m\u001b[0;34m\u001b[0m\u001b[0m\n\u001b[1;32m     94\u001b[0m             \u001b[0;32melse\u001b[0m\u001b[0;34m:\u001b[0m\u001b[0;34m\u001b[0m\u001b[0;34m\u001b[0m\u001b[0m\n",
      "\u001b[0;32m/usr/local/lib/python3.6/dist-packages/sqlalchemy/orm/query.py\u001b[0m in \u001b[0;36mall\u001b[0;34m(self)\u001b[0m\n\u001b[1;32m   3371\u001b[0m                 \u001b[0;34m:\u001b[0m\u001b[0mref\u001b[0m\u001b[0;34m:\u001b[0m\u001b[0;31m`\u001b[0m\u001b[0mfaq_query_deduplicating\u001b[0m\u001b[0;31m`\u001b[0m\u001b[0;34m\u001b[0m\u001b[0;34m\u001b[0m\u001b[0m\n\u001b[1;32m   3372\u001b[0m         \"\"\"\n\u001b[0;32m-> 3373\u001b[0;31m         \u001b[0;32mreturn\u001b[0m \u001b[0mlist\u001b[0m\u001b[0;34m(\u001b[0m\u001b[0mself\u001b[0m\u001b[0;34m)\u001b[0m\u001b[0;34m\u001b[0m\u001b[0;34m\u001b[0m\u001b[0m\n\u001b[0m\u001b[1;32m   3374\u001b[0m \u001b[0;34m\u001b[0m\u001b[0m\n\u001b[1;32m   3375\u001b[0m     \u001b[0;34m@\u001b[0m\u001b[0m_generative\u001b[0m\u001b[0;34m(\u001b[0m\u001b[0m_no_clauseelement_condition\u001b[0m\u001b[0;34m)\u001b[0m\u001b[0;34m\u001b[0m\u001b[0;34m\u001b[0m\u001b[0m\n",
      "\u001b[0;32m/usr/local/lib/python3.6/dist-packages/sqlalchemy/orm/loading.py\u001b[0m in \u001b[0;36minstances\u001b[0;34m(query, cursor, context)\u001b[0m\n\u001b[1;32m     98\u001b[0m     \u001b[0;32mexcept\u001b[0m \u001b[0mException\u001b[0m\u001b[0;34m:\u001b[0m\u001b[0;34m\u001b[0m\u001b[0;34m\u001b[0m\u001b[0m\n\u001b[1;32m     99\u001b[0m         \u001b[0;32mwith\u001b[0m \u001b[0mutil\u001b[0m\u001b[0;34m.\u001b[0m\u001b[0msafe_reraise\u001b[0m\u001b[0;34m(\u001b[0m\u001b[0;34m)\u001b[0m\u001b[0;34m:\u001b[0m\u001b[0;34m\u001b[0m\u001b[0;34m\u001b[0m\u001b[0m\n\u001b[0;32m--> 100\u001b[0;31m             \u001b[0mcursor\u001b[0m\u001b[0;34m.\u001b[0m\u001b[0mclose\u001b[0m\u001b[0;34m(\u001b[0m\u001b[0;34m)\u001b[0m\u001b[0;34m\u001b[0m\u001b[0;34m\u001b[0m\u001b[0m\n\u001b[0m\u001b[1;32m    101\u001b[0m \u001b[0;34m\u001b[0m\u001b[0m\n\u001b[1;32m    102\u001b[0m \u001b[0;34m\u001b[0m\u001b[0m\n",
      "\u001b[0;32m/usr/local/lib/python3.6/dist-packages/sqlalchemy/util/langhelpers.py\u001b[0m in \u001b[0;36m__exit__\u001b[0;34m(self, type_, value, traceback)\u001b[0m\n\u001b[1;32m     68\u001b[0m                 compat.raise_(\n\u001b[1;32m     69\u001b[0m                     \u001b[0mexc_value\u001b[0m\u001b[0;34m,\u001b[0m\u001b[0;34m\u001b[0m\u001b[0;34m\u001b[0m\u001b[0m\n\u001b[0;32m---> 70\u001b[0;31m                     \u001b[0mwith_traceback\u001b[0m\u001b[0;34m=\u001b[0m\u001b[0mexc_tb\u001b[0m\u001b[0;34m,\u001b[0m\u001b[0;34m\u001b[0m\u001b[0;34m\u001b[0m\u001b[0m\n\u001b[0m\u001b[1;32m     71\u001b[0m                 )\n\u001b[1;32m     72\u001b[0m         \u001b[0;32melse\u001b[0m\u001b[0;34m:\u001b[0m\u001b[0;34m\u001b[0m\u001b[0;34m\u001b[0m\u001b[0m\n",
      "\u001b[0;32m/usr/local/lib/python3.6/dist-packages/sqlalchemy/util/compat.py\u001b[0m in \u001b[0;36mraise_\u001b[0;34m(***failed resolving arguments***)\u001b[0m\n\u001b[1;32m    180\u001b[0m \u001b[0;34m\u001b[0m\u001b[0m\n\u001b[1;32m    181\u001b[0m         \u001b[0;32mtry\u001b[0m\u001b[0;34m:\u001b[0m\u001b[0;34m\u001b[0m\u001b[0;34m\u001b[0m\u001b[0m\n\u001b[0;32m--> 182\u001b[0;31m             \u001b[0;32mraise\u001b[0m \u001b[0mexception\u001b[0m\u001b[0;34m\u001b[0m\u001b[0;34m\u001b[0m\u001b[0m\n\u001b[0m\u001b[1;32m    183\u001b[0m         \u001b[0;32mfinally\u001b[0m\u001b[0;34m:\u001b[0m\u001b[0;34m\u001b[0m\u001b[0;34m\u001b[0m\u001b[0m\n\u001b[1;32m    184\u001b[0m             \u001b[0;31m# credit to\u001b[0m\u001b[0;34m\u001b[0m\u001b[0;34m\u001b[0m\u001b[0;34m\u001b[0m\u001b[0m\n",
      "\u001b[0;32m/usr/local/lib/python3.6/dist-packages/sqlalchemy/orm/loading.py\u001b[0m in \u001b[0;36minstances\u001b[0;34m(query, cursor, context)\u001b[0m\n\u001b[1;32m     74\u001b[0m                     \u001b[0;32mbreak\u001b[0m\u001b[0;34m\u001b[0m\u001b[0;34m\u001b[0m\u001b[0m\n\u001b[1;32m     75\u001b[0m             \u001b[0;32melse\u001b[0m\u001b[0;34m:\u001b[0m\u001b[0;34m\u001b[0m\u001b[0;34m\u001b[0m\u001b[0m\n\u001b[0;32m---> 76\u001b[0;31m                 \u001b[0mfetch\u001b[0m \u001b[0;34m=\u001b[0m \u001b[0mcursor\u001b[0m\u001b[0;34m.\u001b[0m\u001b[0mfetchall\u001b[0m\u001b[0;34m(\u001b[0m\u001b[0;34m)\u001b[0m\u001b[0;34m\u001b[0m\u001b[0;34m\u001b[0m\u001b[0m\n\u001b[0m\u001b[1;32m     77\u001b[0m \u001b[0;34m\u001b[0m\u001b[0m\n\u001b[1;32m     78\u001b[0m             \u001b[0;32mif\u001b[0m \u001b[0msingle_entity\u001b[0m\u001b[0;34m:\u001b[0m\u001b[0;34m\u001b[0m\u001b[0;34m\u001b[0m\u001b[0m\n",
      "\u001b[0;32m/usr/local/lib/python3.6/dist-packages/sqlalchemy/engine/result.py\u001b[0m in \u001b[0;36mfetchall\u001b[0;34m(self)\u001b[0m\n\u001b[1;32m   1287\u001b[0m         \u001b[0;32mexcept\u001b[0m \u001b[0mBaseException\u001b[0m \u001b[0;32mas\u001b[0m \u001b[0me\u001b[0m\u001b[0;34m:\u001b[0m\u001b[0;34m\u001b[0m\u001b[0;34m\u001b[0m\u001b[0m\n\u001b[1;32m   1288\u001b[0m             self.connection._handle_dbapi_exception(\n\u001b[0;32m-> 1289\u001b[0;31m                 \u001b[0me\u001b[0m\u001b[0;34m,\u001b[0m \u001b[0;32mNone\u001b[0m\u001b[0;34m,\u001b[0m \u001b[0;32mNone\u001b[0m\u001b[0;34m,\u001b[0m \u001b[0mself\u001b[0m\u001b[0;34m.\u001b[0m\u001b[0mcursor\u001b[0m\u001b[0;34m,\u001b[0m \u001b[0mself\u001b[0m\u001b[0;34m.\u001b[0m\u001b[0mcontext\u001b[0m\u001b[0;34m\u001b[0m\u001b[0;34m\u001b[0m\u001b[0m\n\u001b[0m\u001b[1;32m   1290\u001b[0m             )\n\u001b[1;32m   1291\u001b[0m \u001b[0;34m\u001b[0m\u001b[0m\n",
      "\u001b[0;32m/usr/local/lib/python3.6/dist-packages/sqlalchemy/engine/base.py\u001b[0m in \u001b[0;36m_handle_dbapi_exception\u001b[0;34m(self, e, statement, parameters, cursor, context)\u001b[0m\n\u001b[1;32m   1509\u001b[0m             \u001b[0;32melif\u001b[0m \u001b[0mshould_wrap\u001b[0m\u001b[0;34m:\u001b[0m\u001b[0;34m\u001b[0m\u001b[0;34m\u001b[0m\u001b[0m\n\u001b[1;32m   1510\u001b[0m                 util.raise_(\n\u001b[0;32m-> 1511\u001b[0;31m                     \u001b[0msqlalchemy_exception\u001b[0m\u001b[0;34m,\u001b[0m \u001b[0mwith_traceback\u001b[0m\u001b[0;34m=\u001b[0m\u001b[0mexc_info\u001b[0m\u001b[0;34m[\u001b[0m\u001b[0;36m2\u001b[0m\u001b[0;34m]\u001b[0m\u001b[0;34m,\u001b[0m \u001b[0mfrom_\u001b[0m\u001b[0;34m=\u001b[0m\u001b[0me\u001b[0m\u001b[0;34m\u001b[0m\u001b[0;34m\u001b[0m\u001b[0m\n\u001b[0m\u001b[1;32m   1512\u001b[0m                 )\n\u001b[1;32m   1513\u001b[0m             \u001b[0;32melse\u001b[0m\u001b[0;34m:\u001b[0m\u001b[0;34m\u001b[0m\u001b[0;34m\u001b[0m\u001b[0m\n",
      "\u001b[0;32m/usr/local/lib/python3.6/dist-packages/sqlalchemy/util/compat.py\u001b[0m in \u001b[0;36mraise_\u001b[0;34m(***failed resolving arguments***)\u001b[0m\n\u001b[1;32m    180\u001b[0m \u001b[0;34m\u001b[0m\u001b[0m\n\u001b[1;32m    181\u001b[0m         \u001b[0;32mtry\u001b[0m\u001b[0;34m:\u001b[0m\u001b[0;34m\u001b[0m\u001b[0;34m\u001b[0m\u001b[0m\n\u001b[0;32m--> 182\u001b[0;31m             \u001b[0;32mraise\u001b[0m \u001b[0mexception\u001b[0m\u001b[0;34m\u001b[0m\u001b[0;34m\u001b[0m\u001b[0m\n\u001b[0m\u001b[1;32m    183\u001b[0m         \u001b[0;32mfinally\u001b[0m\u001b[0;34m:\u001b[0m\u001b[0;34m\u001b[0m\u001b[0;34m\u001b[0m\u001b[0m\n\u001b[1;32m    184\u001b[0m             \u001b[0;31m# credit to\u001b[0m\u001b[0;34m\u001b[0m\u001b[0;34m\u001b[0m\u001b[0;34m\u001b[0m\u001b[0m\n",
      "\u001b[0;32m/usr/local/lib/python3.6/dist-packages/sqlalchemy/engine/result.py\u001b[0m in \u001b[0;36mfetchall\u001b[0;34m(self)\u001b[0m\n\u001b[1;32m   1282\u001b[0m \u001b[0;34m\u001b[0m\u001b[0m\n\u001b[1;32m   1283\u001b[0m         \u001b[0;32mtry\u001b[0m\u001b[0;34m:\u001b[0m\u001b[0;34m\u001b[0m\u001b[0;34m\u001b[0m\u001b[0m\n\u001b[0;32m-> 1284\u001b[0;31m             \u001b[0ml\u001b[0m \u001b[0;34m=\u001b[0m \u001b[0mself\u001b[0m\u001b[0;34m.\u001b[0m\u001b[0mprocess_rows\u001b[0m\u001b[0;34m(\u001b[0m\u001b[0mself\u001b[0m\u001b[0;34m.\u001b[0m\u001b[0m_fetchall_impl\u001b[0m\u001b[0;34m(\u001b[0m\u001b[0;34m)\u001b[0m\u001b[0;34m)\u001b[0m\u001b[0;34m\u001b[0m\u001b[0;34m\u001b[0m\u001b[0m\n\u001b[0m\u001b[1;32m   1285\u001b[0m             \u001b[0mself\u001b[0m\u001b[0;34m.\u001b[0m\u001b[0m_soft_close\u001b[0m\u001b[0;34m(\u001b[0m\u001b[0;34m)\u001b[0m\u001b[0;34m\u001b[0m\u001b[0;34m\u001b[0m\u001b[0m\n\u001b[1;32m   1286\u001b[0m             \u001b[0;32mreturn\u001b[0m \u001b[0ml\u001b[0m\u001b[0;34m\u001b[0m\u001b[0;34m\u001b[0m\u001b[0m\n",
      "\u001b[0;32m/usr/local/lib/python3.6/dist-packages/sqlalchemy/engine/result.py\u001b[0m in \u001b[0;36m_fetchall_impl\u001b[0;34m(self)\u001b[0m\n\u001b[1;32m   1228\u001b[0m     \u001b[0;32mdef\u001b[0m \u001b[0m_fetchall_impl\u001b[0m\u001b[0;34m(\u001b[0m\u001b[0mself\u001b[0m\u001b[0;34m)\u001b[0m\u001b[0;34m:\u001b[0m\u001b[0;34m\u001b[0m\u001b[0;34m\u001b[0m\u001b[0m\n\u001b[1;32m   1229\u001b[0m         \u001b[0;32mtry\u001b[0m\u001b[0;34m:\u001b[0m\u001b[0;34m\u001b[0m\u001b[0;34m\u001b[0m\u001b[0m\n\u001b[0;32m-> 1230\u001b[0;31m             \u001b[0;32mreturn\u001b[0m \u001b[0mself\u001b[0m\u001b[0;34m.\u001b[0m\u001b[0mcursor\u001b[0m\u001b[0;34m.\u001b[0m\u001b[0mfetchall\u001b[0m\u001b[0;34m(\u001b[0m\u001b[0;34m)\u001b[0m\u001b[0;34m\u001b[0m\u001b[0;34m\u001b[0m\u001b[0m\n\u001b[0m\u001b[1;32m   1231\u001b[0m         \u001b[0;32mexcept\u001b[0m \u001b[0mAttributeError\u001b[0m \u001b[0;32mas\u001b[0m \u001b[0merr\u001b[0m\u001b[0;34m:\u001b[0m\u001b[0;34m\u001b[0m\u001b[0;34m\u001b[0m\u001b[0m\n\u001b[1;32m   1232\u001b[0m             \u001b[0;32mreturn\u001b[0m \u001b[0mself\u001b[0m\u001b[0;34m.\u001b[0m\u001b[0m_non_result\u001b[0m\u001b[0;34m(\u001b[0m\u001b[0;34m[\u001b[0m\u001b[0;34m]\u001b[0m\u001b[0;34m,\u001b[0m \u001b[0merr\u001b[0m\u001b[0;34m)\u001b[0m\u001b[0;34m\u001b[0m\u001b[0;34m\u001b[0m\u001b[0m\n",
      "\u001b[0;31mDatabaseError\u001b[0m: (sqlite3.DatabaseError) database disk image is malformed\n(Background on this error at: http://sqlalche.me/e/13/4xp6)"
     ]
    }
   ],
   "source": [
    "from app.src.d01_ana.analysis import Config, Analysis\n",
    "\n",
    "settings_analysis = {\n",
    "    'debug': False,\n",
    "    'sample': None,\n",
    "    'clf_model': 'joeddav/xlm-roberta-large-xnli',\n",
    "    'corpus': ['plenar'],\n",
    "    'pipeline': ['extensions', 'sentiment', 'entity', 'res', 'spans', 'clf']\n",
    "    }\n",
    "\n",
    "content_analysis = Analysis('test', Config(**settings_analysis))\n",
    "content_analysis(to_disk=False, to_db=True)\n",
    "res = content_analysis.get_results()"
   ]
  },
  {
   "cell_type": "code",
   "execution_count": null,
   "metadata": {},
   "outputs": [],
   "source": [
    "res.prepare()\n",
    "res.coding()"
   ]
  },
  {
   "cell_type": "code",
   "execution_count": null,
   "metadata": {},
   "outputs": [],
   "source": [
    "content_analysis.res_to_disk()"
   ]
  },
  {
   "cell_type": "code",
   "execution_count": null,
   "metadata": {},
   "outputs": [],
   "source": [
    "db.session.commit()"
   ]
  },
  {
   "cell_type": "code",
   "execution_count": null,
   "metadata": {},
   "outputs": [],
   "source": [
    "Document.query.first()."
   ]
  },
  {
   "cell_type": "code",
   "execution_count": null,
   "metadata": {},
   "outputs": [],
   "source": [
    "i = 0\n",
    "seen = set()\n",
    "for v in res.viz:\n",
    "    for hit in v:\n",
    "        if hit.SPAN_IS_POP:\n",
    "            seen.add(hit.span_start)\n",
    "            i += 1\n",
    "print(i)"
   ]
  },
  {
   "cell_type": "markdown",
   "metadata": {},
   "source": [
    "- after clf: document-level coding, that will be written to database (has_pop, has_coding, has_entity, RSN) -> decide for final version of viz and doc_res\n",
    "- fix visualize (should work from db, with labels as input)\n",
    "- add presse corpus\n",
    "- write a few crucial tests for ca and da\n",
    "- class & config for discourse_ana\n",
    "- finalize dictionaries!\n",
    "- additional clfs?\n",
    "- EVALUATIONSET\n",
    "- run final analysis"
   ]
  }
 ],
 "metadata": {
  "kernelspec": {
   "display_name": "Python 3",
   "language": "python",
   "name": "python3"
  },
  "language_info": {
   "codemirror_mode": {
    "name": "ipython",
    "version": 3
   },
   "file_extension": ".py",
   "mimetype": "text/x-python",
   "name": "python",
   "nbconvert_exporter": "python",
   "pygments_lexer": "ipython3",
   "version": "3.7.8"
  }
 },
 "nbformat": 4,
 "nbformat_minor": 4
}
