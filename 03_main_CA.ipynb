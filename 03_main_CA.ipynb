{
 "cells": [
  {
   "cell_type": "code",
   "execution_count": 1,
   "metadata": {},
   "outputs": [],
   "source": [
    "from pydantic import BaseModel\n",
    "from typing import List, Optional, Union, Set\n",
    "from app import create_app, db\n",
    "from app.models import Akteur\n",
    "from app.models import Doc as Document\n",
    "from spacy import displacy \n",
    "from pathlib import Path\n",
    "import seaborn as sns\n",
    "from logzero import setup_logger\n",
    "import os\n",
    "\n",
    "def get_viz(id):\n",
    "    doc = Document.query.filter_by(id = id).first()\n",
    "    position_in_res = res.labels.index(id)\n",
    "    viz = res.viz[position_in_res]\n",
    "    return doc, viz\n",
    "\n",
    "def visualize(id):\n",
    "    doc, viz = get_viz(id)\n",
    "    ex, options = res.render(doc.text, f\"{doc.autor.name} | {doc.autor.party} | {doc.id}\", viz, pres=True, online=True)\n",
    "    displacy.render(ex, style=\"ent\", manual=True, jupyter=True, options=options)\n",
    "\n",
    "os.environ[\"FLASK_CONFIG\"] = 'development'\n",
    "\n",
    "app = create_app('default')\n",
    "app.app_context().push()"
   ]
  },
  {
   "cell_type": "code",
   "execution_count": 71,
   "metadata": {},
   "outputs": [],
   "source": [
    "import random\n",
    "from sqlalchemy import and_\n",
    "doc_rnd = Document.query.filter(and_(Document.autor.has(Akteur.party == 'FDP'), Document.corpus.like('presse'))).all()\n",
    "sample = random.sample(doc_rnd, 100)"
   ]
  },
  {
   "cell_type": "code",
   "execution_count": 18,
   "metadata": {},
   "outputs": [],
   "source": [
    "# doc_test = Document.query.filter_by(id=55853).first()"
   ]
  },
  {
   "cell_type": "code",
   "execution_count": 39,
   "metadata": {},
   "outputs": [],
   "source": []
  },
  {
   "cell_type": "code",
   "execution_count": 44,
   "metadata": {},
   "outputs": [],
   "source": []
  },
  {
   "cell_type": "code",
   "execution_count": 69,
   "metadata": {},
   "outputs": [],
   "source": []
  },
  {
   "cell_type": "code",
   "execution_count": 72,
   "metadata": {},
   "outputs": [
    {
     "name": "stderr",
     "output_type": "stream",
     "text": [
      "Some weights of the model checkpoint at joeddav/xlm-roberta-large-xnli were not used when initializing XLMRobertaForSequenceClassification: ['roberta.pooler.dense.weight', 'roberta.pooler.dense.bias']\n",
      "- This IS expected if you are initializing XLMRobertaForSequenceClassification from the checkpoint of a model trained on another task or with another architecture (e.g. initializing a BertForSequenceClassification model from a BertForPretraining model).\n",
      "- This IS NOT expected if you are initializing XLMRobertaForSequenceClassification from the checkpoint of a model that you expect to be exactly identical (initializing a BertForSequenceClassification model from a BertForSequenceClassification model).\n",
      "100%|██████████| 100/100 [00:11<00:00,  8.93it/s]\n"
     ]
    }
   ],
   "source": [
    "from app.src.d01_ana.analysis import Config, Analysis\n",
    "\n",
    "settings_analysis = {\n",
    "    'debug': False,\n",
    "    'sample': sample,\n",
    "    'clf_model': 'joeddav/xlm-roberta-large-xnli',\n",
    "#     'corpus': ['plenar'],\n",
    "    'pipeline': ['extensions', 'sentiment', 'entity', 'res', 'spans', 'clf']\n",
    "    }\n",
    "\n",
    "content_analysis = Analysis('test', Config(**settings_analysis))\n",
    "content_analysis(to_disk=False, to_db=False)\n",
    "res = content_analysis.get_results()\n",
    "res.prepare(post=True)\n",
    "res.df.sort_values(by='score', ascending=False)"
   ]
  },
  {
   "cell_type": "code",
   "execution_count": 74,
   "metadata": {},
   "outputs": [
    {
     "data": {
      "text/html": [
       "<div>\n",
       "<style scoped>\n",
       "    .dataframe tbody tr th:only-of-type {\n",
       "        vertical-align: middle;\n",
       "    }\n",
       "\n",
       "    .dataframe tbody tr th {\n",
       "        vertical-align: top;\n",
       "    }\n",
       "\n",
       "    .dataframe thead th {\n",
       "        text-align: right;\n",
       "    }\n",
       "</style>\n",
       "<table border=\"1\" class=\"dataframe\">\n",
       "  <thead>\n",
       "    <tr style=\"text-align: right;\">\n",
       "      <th></th>\n",
       "      <th>doc</th>\n",
       "      <th>doclen</th>\n",
       "      <th>score</th>\n",
       "      <th>ELITE</th>\n",
       "      <th>PEOPLE</th>\n",
       "      <th>ATTR</th>\n",
       "      <th>ELITE_STANDALONE</th>\n",
       "      <th>E</th>\n",
       "      <th>EA</th>\n",
       "      <th>V</th>\n",
       "      <th>VA</th>\n",
       "    </tr>\n",
       "  </thead>\n",
       "  <tbody>\n",
       "    <tr>\n",
       "      <th>22</th>\n",
       "      <td>54556</td>\n",
       "      <td>157</td>\n",
       "      <td>51.186583</td>\n",
       "      <td>11.878975</td>\n",
       "      <td>8.406693</td>\n",
       "      <td>30.900915</td>\n",
       "      <td>0.000000</td>\n",
       "      <td>11.878975</td>\n",
       "      <td>30.900915</td>\n",
       "      <td>8.406693</td>\n",
       "      <td>0.0</td>\n",
       "    </tr>\n",
       "    <tr>\n",
       "      <th>66</th>\n",
       "      <td>54082</td>\n",
       "      <td>182</td>\n",
       "      <td>49.746662</td>\n",
       "      <td>8.731561</td>\n",
       "      <td>13.858664</td>\n",
       "      <td>27.156437</td>\n",
       "      <td>0.000000</td>\n",
       "      <td>8.731561</td>\n",
       "      <td>27.156437</td>\n",
       "      <td>13.858664</td>\n",
       "      <td>0.0</td>\n",
       "    </tr>\n",
       "    <tr>\n",
       "      <th>8</th>\n",
       "      <td>54120</td>\n",
       "      <td>526</td>\n",
       "      <td>46.630054</td>\n",
       "      <td>0.000000</td>\n",
       "      <td>13.839395</td>\n",
       "      <td>0.000000</td>\n",
       "      <td>32.790658</td>\n",
       "      <td>32.790658</td>\n",
       "      <td>0.000000</td>\n",
       "      <td>13.839395</td>\n",
       "      <td>0.0</td>\n",
       "    </tr>\n",
       "    <tr>\n",
       "      <th>11</th>\n",
       "      <td>54149</td>\n",
       "      <td>627</td>\n",
       "      <td>44.585128</td>\n",
       "      <td>9.560869</td>\n",
       "      <td>18.478038</td>\n",
       "      <td>16.546221</td>\n",
       "      <td>0.000000</td>\n",
       "      <td>9.560869</td>\n",
       "      <td>16.546221</td>\n",
       "      <td>18.478038</td>\n",
       "      <td>0.0</td>\n",
       "    </tr>\n",
       "    <tr>\n",
       "      <th>0</th>\n",
       "      <td>54937</td>\n",
       "      <td>114</td>\n",
       "      <td>0.000000</td>\n",
       "      <td>0.000000</td>\n",
       "      <td>0.000000</td>\n",
       "      <td>0.000000</td>\n",
       "      <td>0.000000</td>\n",
       "      <td>0.000000</td>\n",
       "      <td>0.000000</td>\n",
       "      <td>0.000000</td>\n",
       "      <td>0.0</td>\n",
       "    </tr>\n",
       "    <tr>\n",
       "      <th>...</th>\n",
       "      <td>...</td>\n",
       "      <td>...</td>\n",
       "      <td>...</td>\n",
       "      <td>...</td>\n",
       "      <td>...</td>\n",
       "      <td>...</td>\n",
       "      <td>...</td>\n",
       "      <td>...</td>\n",
       "      <td>...</td>\n",
       "      <td>...</td>\n",
       "      <td>...</td>\n",
       "    </tr>\n",
       "    <tr>\n",
       "      <th>33</th>\n",
       "      <td>54355</td>\n",
       "      <td>100</td>\n",
       "      <td>0.000000</td>\n",
       "      <td>0.000000</td>\n",
       "      <td>0.000000</td>\n",
       "      <td>0.000000</td>\n",
       "      <td>0.000000</td>\n",
       "      <td>0.000000</td>\n",
       "      <td>0.000000</td>\n",
       "      <td>0.000000</td>\n",
       "      <td>0.0</td>\n",
       "    </tr>\n",
       "    <tr>\n",
       "      <th>32</th>\n",
       "      <td>55010</td>\n",
       "      <td>115</td>\n",
       "      <td>0.000000</td>\n",
       "      <td>0.000000</td>\n",
       "      <td>0.000000</td>\n",
       "      <td>0.000000</td>\n",
       "      <td>0.000000</td>\n",
       "      <td>0.000000</td>\n",
       "      <td>0.000000</td>\n",
       "      <td>0.000000</td>\n",
       "      <td>0.0</td>\n",
       "    </tr>\n",
       "    <tr>\n",
       "      <th>31</th>\n",
       "      <td>54994</td>\n",
       "      <td>163</td>\n",
       "      <td>0.000000</td>\n",
       "      <td>0.000000</td>\n",
       "      <td>0.000000</td>\n",
       "      <td>0.000000</td>\n",
       "      <td>0.000000</td>\n",
       "      <td>0.000000</td>\n",
       "      <td>0.000000</td>\n",
       "      <td>0.000000</td>\n",
       "      <td>0.0</td>\n",
       "    </tr>\n",
       "    <tr>\n",
       "      <th>30</th>\n",
       "      <td>54381</td>\n",
       "      <td>423</td>\n",
       "      <td>0.000000</td>\n",
       "      <td>0.000000</td>\n",
       "      <td>0.000000</td>\n",
       "      <td>0.000000</td>\n",
       "      <td>0.000000</td>\n",
       "      <td>0.000000</td>\n",
       "      <td>0.000000</td>\n",
       "      <td>0.000000</td>\n",
       "      <td>0.0</td>\n",
       "    </tr>\n",
       "    <tr>\n",
       "      <th>99</th>\n",
       "      <td>54267</td>\n",
       "      <td>1385</td>\n",
       "      <td>0.000000</td>\n",
       "      <td>0.000000</td>\n",
       "      <td>0.000000</td>\n",
       "      <td>0.000000</td>\n",
       "      <td>0.000000</td>\n",
       "      <td>0.000000</td>\n",
       "      <td>0.000000</td>\n",
       "      <td>0.000000</td>\n",
       "      <td>0.0</td>\n",
       "    </tr>\n",
       "  </tbody>\n",
       "</table>\n",
       "<p>100 rows × 11 columns</p>\n",
       "</div>"
      ],
      "text/plain": [
       "      doc  doclen      score      ELITE     PEOPLE       ATTR  \\\n",
       "22  54556     157  51.186583  11.878975   8.406693  30.900915   \n",
       "66  54082     182  49.746662   8.731561  13.858664  27.156437   \n",
       "8   54120     526  46.630054   0.000000  13.839395   0.000000   \n",
       "11  54149     627  44.585128   9.560869  18.478038  16.546221   \n",
       "0   54937     114   0.000000   0.000000   0.000000   0.000000   \n",
       "..    ...     ...        ...        ...        ...        ...   \n",
       "33  54355     100   0.000000   0.000000   0.000000   0.000000   \n",
       "32  55010     115   0.000000   0.000000   0.000000   0.000000   \n",
       "31  54994     163   0.000000   0.000000   0.000000   0.000000   \n",
       "30  54381     423   0.000000   0.000000   0.000000   0.000000   \n",
       "99  54267    1385   0.000000   0.000000   0.000000   0.000000   \n",
       "\n",
       "    ELITE_STANDALONE          E         EA          V   VA  \n",
       "22          0.000000  11.878975  30.900915   8.406693  0.0  \n",
       "66          0.000000   8.731561  27.156437  13.858664  0.0  \n",
       "8          32.790658  32.790658   0.000000  13.839395  0.0  \n",
       "11          0.000000   9.560869  16.546221  18.478038  0.0  \n",
       "0           0.000000   0.000000   0.000000   0.000000  0.0  \n",
       "..               ...        ...        ...        ...  ...  \n",
       "33          0.000000   0.000000   0.000000   0.000000  0.0  \n",
       "32          0.000000   0.000000   0.000000   0.000000  0.0  \n",
       "31          0.000000   0.000000   0.000000   0.000000  0.0  \n",
       "30          0.000000   0.000000   0.000000   0.000000  0.0  \n",
       "99          0.000000   0.000000   0.000000   0.000000  0.0  \n",
       "\n",
       "[100 rows x 11 columns]"
      ]
     },
     "execution_count": 74,
     "metadata": {},
     "output_type": "execute_result"
    }
   ],
   "source": []
  },
  {
   "cell_type": "code",
   "execution_count": 64,
   "metadata": {},
   "outputs": [],
   "source": [
    "# res.spans_dict"
   ]
  },
  {
   "cell_type": "code",
   "execution_count": 75,
   "metadata": {},
   "outputs": [],
   "source": [
    "top = res.df.sort_values(by='score', ascending=False).doc[0:30]\n",
    "top = [i for i in top]"
   ]
  },
  {
   "cell_type": "code",
   "execution_count": 76,
   "metadata": {},
   "outputs": [
    {
     "name": "stdout",
     "output_type": "stream",
     "text": [
      "(0, 1050)\n"
     ]
    },
    {
     "data": {
      "text/html": [
       "<span class=\"tex2jax_ignore\"><h2 style=\"margin: 0\">johannes vogel | FDP | 54556</h2>\n",
       "\n",
       "<div class=\"entities\" style=\"line-height: 2.5; direction: ltr\">Union und SPD destabilisieren das ganze Rentensystem Zu den Medienberichten über die Kosten der Rentenpläne der Großen Koalition erklärt der rentenpolitische Sprecher der FDP Fraktion Johannes Vogel : Anerkannte Experten bestätigen genau das, was die Fraktion der Freien Demokraten seit der Neuauflage der Großen Koalition kritisiert : \n",
       "<mark class=\"entity\" style=\"background: yellow; padding: 0.45em 0.6em; margin: 0 0.25em; line-height: 1; border-radius: 0.35em;\">\n",
       "    Die Rentenpläne von Union und SPD sind unbezahlbar und unverantwortlich . Genau zum Ende dieser Legislaturperiode laufen die Kosten aus dem Ruder, vor allem die Manipulation der Rentenformel destabilisiert das ganze System . Die Bürger werden durch die Wahlkampfgeschenke von Union und SPD mit Milliarden belastet, bezahlen dürfen am Ende besonders Jüngere und Geringverdiener . Denn auch die Forscher gehen davon aus, dass der Beitragssatz steigen wird, da kein zusätzliches Steuergeld vorgesehen ist und nur über drastische Steuererhöhungen eingenommen werden könnte .\n",
       "    <span style=\"font-size: 0.8em; font-weight: bold; line-height: 1; border-radius: 0.35em; text-transform: uppercase; vertical-align: middle; margin-left: 0.5rem\">P|1</span>\n",
       "</mark>\n",
       " Das ist eine fatale Politik zulasten der Zukunft . Insbesondere bei der Rente müssen wir in Generationen denken, nicht in Legislaturperioden .</div></span>"
      ],
      "text/plain": [
       "<IPython.core.display.HTML object>"
      ]
     },
     "metadata": {},
     "output_type": "display_data"
    },
    {
     "name": "stdout",
     "output_type": "stream",
     "text": [
      "(0, 1193)\n"
     ]
    },
    {
     "data": {
      "text/html": [
       "<span class=\"tex2jax_ignore\"><h2 style=\"margin: 0\">florian toncar | FDP | 54082</h2>\n",
       "\n",
       "<div class=\"entities\" style=\"line-height: 2.5; direction: ltr\">\n",
       "<mark class=\"entity\" style=\"background: yellow; padding: 0.45em 0.6em; margin: 0 0.25em; line-height: 1; border-radius: 0.35em;\">\n",
       "    Große Koalition bricht das Soli Versprechen Zur Einigung über die Teil Abschaffung des Soli erklärt der finanzpolitische Sprecher der FDP Fraktion Dr Florian Toncar : Dass der Soli bleiben soll, ist eine weitere Hiobsbotschaft für die Steuerzahler und Betriebe . Gerade für letztere wäre eine zügige Komplettabschaffung der teuren Sondersteuer wichtig gewesen . Mit ihrer Entscheidung bricht die Große Koalition das Versprechen, dass der Soli nur für den Aufbau Ost eingesetzt werden darf . Die Beibehaltung des Soli verstößt zudem klar gegen die Verfassung .\n",
       "    <span style=\"font-size: 0.8em; font-weight: bold; line-height: 1; border-radius: 0.35em; text-transform: uppercase; vertical-align: middle; margin-left: 0.5rem\">P|1</span>\n",
       "</mark>\n",
       " Zahlreiche Steuerzahler werden dagegen klagen und auch die FDP Fraktion wird alle rechtlichen Möglichkeiten ausschöpfen, um die komplette Abschaffung des Soli zu erreichen . Die Große Koalition verursacht mit ihrem Vorgehen das größte Haushaltsrisiko in der jüngeren Geschichte der Bundesrepublik . Und die Union geht einmal mehr geschlagen vom Platz : vor der Bayernwahl und der Europawahl hatte sie die komplette Abschaffung des Soli gefordert . Notwendig ist ein grundlegender Umbau unseres Steuersystems für mehr Leistungsgerechtigkeit . Der Soli hat in einem solchen System keinen Platz, er muss schon 2020 komplett entfallen .</div></span>"
      ],
      "text/plain": [
       "<IPython.core.display.HTML object>"
      ]
     },
     "metadata": {},
     "output_type": "display_data"
    },
    {
     "name": "stdout",
     "output_type": "stream",
     "text": [
      "(0, 3385)\n"
     ]
    },
    {
     "data": {
      "text/html": [
       "<span class=\"tex2jax_ignore\"><h2 style=\"margin: 0\">hermann otto solms | FDP | 54120</h2>\n",
       "\n",
       "<div class=\"entities\" style=\"line-height: 2.5; direction: ltr\">Diese Zeche zahlen Sie Der Ehrenvorsitzende der FDP Fraktion Dr Hermann Otto Solms schrieb für die Wetzlarer Neue Zeitung Montagsausgabe den folgenden Gastbeitrag : Die Energiewende beschäftigt die deutsche Politik nun schon seit einigen Jahren . Über sie wird unter Politikern wie Experten leidenschaftlich diskutiert und gestritten . Über ihre Notwendigkeit besteht kein Zweifel . Das Ziel liegt klar vor Augen . Aber den richtigen Weg zu diesem Ziel zu finden, das steht auf einem ganz anderen Blatt . Bisher hat sie die Verbraucher bereits über 35 Milliarden Euro gekostet . Dabei wird es nicht bleiben . Denn neuester Tiefpunkt ist der Bericht der Kohlekommission von letzter Woche, der an wirtschaftlicher Unvernunft und mit kalkulierten Kosten von gut 80 Milliarden Euro und mehr jede Vorstellung übersteigt . Man hat den Eindruck, die Kohlekommission eigentlich die Kommission für Wachstum, Strukturwandel und Beschäftigung hatte vor allem einen Arbeitsauftrag . Raus aus der Kohle . Egal wie . Egal zu welchem Preis . Aus der Kohleverstromung aussteigen wollen auch die Freien Demokraten . Aber nicht auf Kosten der Verbraucher, nicht auf Kosten der Arbeitnehmer und nicht auf Kosten der Versorgungssicherheit . Wenn die Kommission vorschlägt, bis 2022 insgesamt 12,5 Gigawatt Kohleverstromung vom Netz zu nehmen, hat sie den bis 2020 stattfindenden Ausstieg aus der Kernenergie offenkundig ausgeblendet . Selbst wenn es bis dahin genug Windkraftanlagen zum Ausgleich gäbe : Die dringend benötigten Stromtrassen vom windreichen Norden in den windarmen Süden sollen erst 2025 fertig gestellt sein . Schon heute deutet sich an, dass das nicht gelingen wird . Und anstatt in Forschung und Entwicklung von Speichertechnologie für die erneuerbaren Energien zu investieren, soll der Staat nun mit den Braunkohlekraftwerkbetreibern über Milliardenentschädigungen für den Ausstieg verhandeln . Überhaupt kann der Kohleausstieg nur ein Baustein sein, wenn es um die Reduzierung der CO2 Emmissionen geht . \n",
       "<mark class=\"entity\" style=\"background: yellow; padding: 0.45em 0.6em; margin: 0 0.25em; line-height: 1; border-radius: 0.35em;\">\n",
       "    Steigt die Bundesrepublik aus der Kohleverstromung aus, ist im globalen Klimaschutz nichts gewonnen . Wer den Eindruck vermittelt, ein nationaler Alleingang wäre die Lösung des Problems, betreibt Volksverdummung . Die Verbraucher bezahlen dann zwar für Ökostrom, bekommen aber den Kohle und Atomstrom unserer französischen und polnischen Nachbarn . Denn während wir über die Abschaltung von 12,5 Gigawatt bis 2022 sprechen, baut die Welt um uns herum derzeit über tausend neue Kohlemeiler .\n",
       "    <span style=\"font-size: 0.8em; font-weight: bold; line-height: 1; border-radius: 0.35em; text-transform: uppercase; vertical-align: middle; margin-left: 0.5rem\">P|1</span>\n",
       "</mark>\n",
       " Sollten wir der Welt da nicht eine Technologie anbieten können, die diesen Strom sauberer macht ? Zum Beispiel kann CO2 abgeschieden und als Rohstoff gespeichert werden . In die Erforschung dieser Technologien sollte Geld fließen . Stattdessen wird für die Versorgungssicherheit der Bau von Gaskraftwerken subventioniert werden müssen . CO2 neutral sind die übrigens auch nicht . Richtig ist, dass es für die noch bestehenden Kohleregionen einen Strukturplan braucht . Die Arbeitnehmer in diesen Regionen dürfen keinem nationalen Alleingang geopfert werden . Es braucht einen langfristigen Gesamtplan, der sowohl die Arbeitsplätze schützt als auch die Verbraucherinnen und Verbraucher . Peter Altmaier behauptet, der Kohleausstieg würde den Strom nicht teurer machen . Das ist eine Lüge . Denn diese Zeche zahlt nicht der Staat . Diese Zeche zahlen Sie, die Steuerzahler und Verbraucher .</div></span>"
      ],
      "text/plain": [
       "<IPython.core.display.HTML object>"
      ]
     },
     "metadata": {},
     "output_type": "display_data"
    },
    {
     "name": "stdout",
     "output_type": "stream",
     "text": [
      "(0, 3848)\n"
     ]
    },
    {
     "data": {
      "text/html": [
       "<span class=\"tex2jax_ignore\"><h2 style=\"margin: 0\">marco buschmann | FDP | 54149</h2>\n",
       "\n",
       "<div class=\"entities\" style=\"line-height: 2.5; direction: ltr\">Protestwähler einfach überflüssig machen Der Erste Parlamentarische Geschäftsführer der FDP Fraktion Dr Marco Buschmann gab dem Tagesspiegel Samstagsausgabe das folgende Interview . Die Fragen stellte Fabian Löhe : Frage : Herr Buschmann, der Verfassungsschutz hat die Alternative für Deutschland AfD insgesamt als sogenannten Prüffall eingestuft und die Jugendorganisation Junge Alternative JA sowie die rechtsnationale Vereinigung Der Flügel zu Verdachtsfällen erklärt . Geben Sie AfD Abgeordneten noch die Hand ? \n",
       "<mark class=\"entity\" style=\"background: yellow; padding: 0.45em 0.6em; margin: 0 0.25em; line-height: 1; border-radius: 0.35em;\">\n",
       "    Buschmann : Wir als FDP sprechen mit allen Fraktionen im Bundestag zivil und bürgerlich, wie sich das unter Erwachsenen gehört . Wenn ich einem AfD Abgeordneten begegne, werde ich weiterhin grüßen . Und eine ausgestreckte Hand schlage ich nicht aus . Anders ist es mit einzelnen Kollegen, die sich als Person durch Äußerungen und Verhalten selbst diskreditiert haben .\n",
       "    <span style=\"font-size: 0.8em; font-weight: bold; line-height: 1; border-radius: 0.35em; text-transform: uppercase; vertical-align: middle; margin-left: 0.5rem\">P|1</span>\n",
       "</mark>\n",
       " Frage : Welche Konsequenzen werden die Entscheidungen für die AfD haben ? Buschmann : Die AfD wird ihren neuen Status als Steilvorlage nutzen wollen, um sich mal wieder als Opfer zu inszenieren . Ihr Ziel wird es sein, damit eine Solidarisierungswelle auszulösen . Dennoch halte ich ihre Prüfung durch den Verfassungsschutz für sachlich geboten . In allerletzter Konsequenz kann dann natürlich auch ein Verbotsverfahren im Raum stehen . Das wäre der Fall, wenn die Prüfung ergeben würde, dass sich radikale Kräfte immer mehr in der Partei ausbreiten, mit dem Ziel, die freiheitlich demokratische Grundordnung zu beseitigen . Im Umgang mit der AfD halte ich allerdings etwas anderes für wichtiger : Diese Partei will selbst keine Probleme lösen . Probleme sind ihr Geschäftsmodell . Niemand hat weniger Interesse an der Lösung der Migrationsfrage als die AfD . Wir müssen die Partei durch gute Politik, damit meine ich nicht nur reden, sondern auch handeln, für Protestwähler einfach überflüssig machen . Das ist wichtiger als alles andere . Frage : Dazu haben Sie selbst ja nun Gelegenheit bei den Landtagswahlen im Osten . Bislang waren Sie da sehr schwach aufgestellt . Wie wollen Sie das ändern ? Buschmann : Wir werden in alle drei Landtage einziehen . Da bin ich mir sicher und so sieht auch die Umfragelage aus . Auch Regierungsbeteiligungen sind hier möglich . Das wäre ein besonders schöner Erfolg . Dazu werden wir allerdings nicht wie das Kaninchen auf die Schlange der AfD schauen . Es muss auch eine Partei geben, die offensiv sagt, dass Brandenburg, Sachsen und Thüringen alles andere als eine No Go Area für qualifizierte Fachkräfte sind . Viele vergessen, dass es in Teilen des Ostens Vollbeschäftigung gibt . Die Handwerksbetriebe und Mittelständler suchen händeringend qualifizierte oder qualifizierbare Leute . Daher setzen wir uns für gute Bildung ein . Aber wir setzen uns auch offensiv für ein Einwanderungsrecht ein, das es Qualifizierten leichter macht, Kriminellen aber schwer . Der Strukturwandel, den der Kohleausstieg im Osten mit sich bringt, verlangt nach viel wirtschaftlichem Sachverstand in der Politik . Dafür stehen wir und unsere Kandidaten im Osten . Frage : Und so wollen Sie die Herzen erreichen ? Buschmann : Nach den Vorfällen von Chemnitz haben wir gesehen, wie groß die Bereitschaft ist, ein ganzes Bundesland und seine Menschen öffentlich abzustempeln . Das war eine große Ungerechtigkeit . Wer wegen Ausschreitungen einzelner Gruppen eine ganze Stadt oder ein ganzes Bundesland pauschal verurteilt, handelt ungerecht . Genauso ungerecht wie Rechte, die behaupten, jeder Ausländer sei kriminell . Ich habe in dieser Zeit viel Post von Menschen bekommen, die sich dafür bedankt haben, dass ich darauf hingewiesen habe . Noch deutlich mehr Zuspruch haben meine FDP Kollegen aus Ostdeutschland bekommen . Das zeigt mir : Gerechtigkeit und die Fähigkeit zu differenzieren kann auch ein Weg zu den Herzen der Menschen sein .</div></span>"
      ],
      "text/plain": [
       "<IPython.core.display.HTML object>"
      ]
     },
     "metadata": {},
     "output_type": "display_data"
    },
    {
     "name": "stdout",
     "output_type": "stream",
     "text": [
      "(0, 792)\n"
     ]
    },
    {
     "data": {
      "text/html": [
       "<span class=\"tex2jax_ignore\"><h2 style=\"margin: 0\">nicole westig | FDP | 54937</h2>\n",
       "\n",
       "<div class=\"entities\" style=\"line-height: 2.5; direction: ltr\">Neuer Pflege TÜV muss echte Transparenz schaffen Zur Vorstellung des neuen Pflege TÜVs erklärt die pflegepolitische Sprecherin der FDP Fraktion Nicole Westig : Die Einführung des neuen Pflege TÜVs ist ein Schritt zur Verbesserung der Qualitätsprüfungen, reicht aber nicht aus . Zwar hilft er, anders als die bisherigen Pflegenoten, die Qualität der Pflegeeinrichtungen realistischer abzubilden und nicht nur Dokumentationen abzufragen . Jedoch greift das immer noch zu kurz, denn die neuen Qualitätsberichte sind sehr umfangreich und komplex . Wir brauchen einfachere und kompaktere Darstellungen, die echte Transparenz für Pflegebedürftige und Angehörige schaffen . Darüber hinaus muss der Mehraufwand für Pflegeeinrichtungen kompensiert werden, etwa durch einen verlängerten Prüfrhythmus .</div></span>"
      ],
      "text/plain": [
       "<IPython.core.display.HTML object>"
      ]
     },
     "metadata": {},
     "output_type": "display_data"
    },
    {
     "name": "stdout",
     "output_type": "stream",
     "text": [
      "(0, 917)\n"
     ]
    },
    {
     "data": {
      "text/html": [
       "<span class=\"tex2jax_ignore\"><h2 style=\"margin: 0\">reinhard houben | FDP | 54926</h2>\n",
       "\n",
       "<div class=\"entities\" style=\"line-height: 2.5; direction: ltr\">Große Koalition hat von der Substanz gelebt Zum Herbstgutachten der Wirtschaftsforschungsinstitute erklärt der wirtschaftspolitische Sprecher der FDP Fraktion Reinhard Houben : Dem wirtschaftlichen Aufschwung in Deutschland geht die Puste aus, weil die Große Koalition von der Substanz gelebt hat . Dabei hätte sie alle Zeit gehabt, für schwierigere Zeiten vorzubauen . Nach dem Weckruf der Wirtschaftsinstitute muss die Große Koalition aufwachen und anpacken . Es gibt viel zu tun : Fachkräftezuwanderung nicht weiter auf die lange Bank schieben, Unternehmenssteuerreform auf den Weg bringen, genauso wie eine Entbürokratisierungsoffensive . Gerade die Union muss jetzt demonstrieren, dass sie überhaupt noch etwas von Wirtschaftspolitik versteht . Es muss Schluss sein mit der großkoalitionären Ausgabenpolitik, wir brauchen jetzt eine Agenda 2030 Die Große Koalition muss von Nabelschau auf Weitblick umschalten .</div></span>"
      ],
      "text/plain": [
       "<IPython.core.display.HTML object>"
      ]
     },
     "metadata": {},
     "output_type": "display_data"
    },
    {
     "name": "stdout",
     "output_type": "stream",
     "text": [
      "(0, 1320)\n"
     ]
    },
    {
     "data": {
      "text/html": [
       "<span class=\"tex2jax_ignore\"><h2 style=\"margin: 0\">alexander graf lambsdorff | FDP | 53813</h2>\n",
       "\n",
       "<div class=\"entities\" style=\"line-height: 2.5; direction: ltr\">Anerkennung ganz Jerusalems als israelische Hauptstadt gefährlich Zur Ankündigung des US Präsidenten Trump, Jerusalem als israelische Hauptstadt anzuerkennen, erklärt der stellvertretende FDP Fraktionsvorsitzende Alexander Graf Lambsdorff : Jerusalem ist für die großen monotheistischen Weltreligionen ein Ort von herausragender Bedeutung . Seit Israel die Kontrolle dort ausübt, ist der Zugang für Juden, Christen und Moslems zu ihren heiligen Stätten in der Regel frei und sicher möglich . Das ist wertvoll und wichtig . Eine einseitige Anerkennung ganz Jerusalems als israelische Hauptstadt kann genau diesen Zustand gefährden . Mehr noch : in der muslimischen Welt würde sie als massive Provokation aufgefasst werden . Deshalb wäre ein solcher Schritt das falsche Signal . Israel und der Nahe Osten brauchen nicht weniger, sondern mehr Stabilität . Der endgültige Status ganz Jerusalems kann nur in direkten Friedensverhandlungen zwischen Israel und Palästina geklärt werden . Praktikable Vorschläge hat die Genfer Initiative gemacht, sie sollten Bezugspunkt weiterer Gespräche sein . Um eine dauerhafte Befriedung des Konflikts zu erreichen, müssen Israel und Palästina deshalb an den Verhandlungstisch zurückkehren . Dafür sollte sich die US Regierung genauso einsetzen wie Deutschland und die Europäische Union .</div></span>"
      ],
      "text/plain": [
       "<IPython.core.display.HTML object>"
      ]
     },
     "metadata": {},
     "output_type": "display_data"
    },
    {
     "name": "stdout",
     "output_type": "stream",
     "text": [
      "(0, 1095)\n"
     ]
    },
    {
     "data": {
      "text/html": [
       "<span class=\"tex2jax_ignore\"><h2 style=\"margin: 0\">johannes vogel | FDP | 54548</h2>\n",
       "\n",
       "<div class=\"entities\" style=\"line-height: 2.5; direction: ltr\">Rente mit 63 ist ein schwerer Fehler Zur PwC Studie über Beschäftigung im Alter erklärt der rentenpolitische Sprecher der FDP Fraktion Johannes Vogel : Die neue Studie beweist einmal mehr : Die Rente mit 63 Jahren ist ein schwerer Fehler . Statt teure neue Wahlkampfgeschenke zu verteilen, sollte die Große Koalition daher endlich ein Kernelement moderner Rentenpolitik voranbringen : Wir brauchen ein wirklich flexibles Renteneintrittsalter . Die Lebensläufe sind so unterschiedlich, dem müssen wir endlich nach skandinavischem Vorbild Rechnung tragen . Dort gilt eine ganz einfache Regel : Wer später geht, bekommt mehr, wer früher geht, bekommt weniger Rente . Das ist fair . Und wenn man doch wieder arbeiten oder sich etwas dazuverdienen möchte, ist auch das ohne Weiteres und ohne bürokratische Zuverdienstgrenzen möglich . So werden auch individuelle Teilrentenmodelle ganz einfach . Die skandinavischen Länder machen uns das erfolgreich vor und die Statistik zeigt, dass die Menschen dort im Schnitt viel länger arbeiten als bei uns . Nicht weil sie müssen, sondern weil sie es wollen .</div></span>"
      ],
      "text/plain": [
       "<IPython.core.display.HTML object>"
      ]
     },
     "metadata": {},
     "output_type": "display_data"
    },
    {
     "name": "stdout",
     "output_type": "stream",
     "text": [
      "(0, 1027)\n"
     ]
    },
    {
     "data": {
      "text/html": [
       "<span class=\"tex2jax_ignore\"><h2 style=\"margin: 0\">stefan ruppert | FDP | 54475</h2>\n",
       "\n",
       "<div class=\"entities\" style=\"line-height: 2.5; direction: ltr\">Ditib lässt Chance auf Neuanfang verstreichen Zur Vorstellung des neuen Ditib Vorstands erklärt der religionspolitische Sprecher der FDP Fraktion Dr Stefan Ruppert : Die Ditib hatte nach etlichen Skandalen versprochen, mit ihrem neuen Vorstand auch einen Erneuerungsprozess einzuleiten . Doch der Ditib Vorstand hat die Chance auf einen Neuanfang verstreichen lassen . Statt deutlich zu erklären, dass sich an der Ausrichtung des Verbandes in Zukunft etwas ändern wird, soll alles beim Alten bleiben . Anstelle von Selbstkritik sucht der Verband die Schuld bei anderen . Die Abhängigkeit von der türkischen Regierung spielte in den Äußerungen des Vorsitzenden Türkmen keine Rolle . Die FDP Fraktion fordert den Verband auf, sich endlich unabhängig von Ankara zu machen . Das ist eine Grundvoraussetzung für die Zusammenarbeit mit der Ditib . Angesichts der Einladung von Muslimbrüdern zu einer Ditib Konferenz wäre zudem ein klares und überzeugendes Bekenntnis zur freiheitlich demokratischen Grundordnung angebracht gewesen .</div></span>"
      ],
      "text/plain": [
       "<IPython.core.display.HTML object>"
      ]
     },
     "metadata": {},
     "output_type": "display_data"
    },
    {
     "name": "stdout",
     "output_type": "stream",
     "text": [
      "(0, 1204)\n"
     ]
    },
    {
     "data": {
      "text/html": [
       "<span class=\"tex2jax_ignore\"><h2 style=\"margin: 0\">gyde jensen | FDP | 55032</h2>\n",
       "\n",
       "<div class=\"entities\" style=\"line-height: 2.5; direction: ltr\">Angriffen auf Pressefreiheit vehementer entgegenstellen Zum Internationalen Tag der Pressefreiheit erklärt die menschenrechtspolitische Sprecherin der FDP Fraktion und Vorsitzende des Menschenrechtsausschusses Gyde Jensen : Demokratie lebt von der Presse und Meinungsfreiheit . Dies gilt in einer vernetzten Welt wie unserer umso mehr . Die Lage hat sich in keiner anderen Region so sehr verschlechtert wie in Europa . Deshalb müssen wir uns den Angriffen auf die Pressefreiheit vehementer entgegenstellen . Europa muss beispielsweise an seinen Rechtsstaatsmechanismen arbeiten, um glaubwürdig für diese Werte zu stehen . Deutschland nimmt hierbei eine Schlüsselrolle ein, selbst Vorbild zu sein und auf eine wertegebundene Haushaltspolitik der EU zu drängen . Die Bundesregierung hat allerdings zuletzt etwa mit dem Netzwerkdurchsetzungsgesetz Vertrauen verspielt . Die Fraktion der Freien Demokraten lehnt diesen politischen Aktionismus ab . Vielmehr fordern wir die Bundesregierung dazu auf, Deutschland zum internationalen Leuchtturm für die Presse und Meinungsfreiheit zu machen . Denn freie Medien sind das Wesen einer Demokratie und freier Journalismus kann und darf niemals ein Verbrechen sein .</div></span>"
      ],
      "text/plain": [
       "<IPython.core.display.HTML object>"
      ]
     },
     "metadata": {},
     "output_type": "display_data"
    },
    {
     "name": "stdout",
     "output_type": "stream",
     "text": [
      "(0, 1041)\n"
     ]
    },
    {
     "data": {
      "text/html": [
       "<span class=\"tex2jax_ignore\"><h2 style=\"margin: 0\">michael theurer | FDP | 53909</h2>\n",
       "\n",
       "<div class=\"entities\" style=\"line-height: 2.5; direction: ltr\">Monopolpolitik von Merkel grandios gescheitert Zur gescheiterten Übernahme von Niki durch die Lufthansa erklärt der stellvertretende FDP Fraktionsvorsitzende Michael Theurer : Mit der gescheiterten Übernahme ist die Monopolpolitik von Bundeskanzlerin Merkel zugunsten der Lufthansa grandios gescheitert . Wir Freien Demokraten fordern, dass auch im Luftverkehr endlich wieder auf soziale Marktwirtschaft und Wettbewerb gesetzt wird . Denn Monopole sind schädlich und gehen immer zulasten der Verbraucher Daher unterstützen wir die liberale EU Wettbewerbskommissarin Margrethe Vestager, die für mehr Transparenz und fairen Wettbewerb kämpft . Die Bundesregierung sollte eine Markttransparenzstelle für Flugticketpreise einrichten . Sie muss außerdem für Wettbewerb im Flugbereich sorgen . Dazu gehört zunächst die Bestandsaufnahme der bestehenden Wettbewerbshürden und Marktzugangsbeschränkungen etwa bei den wichtigen Slots . Ein Expertenrat sollte einberufen werden und Vorschläge zur Stärkung des Wettbewerbs in der Luftfahrt erarbeiten .</div></span>"
      ],
      "text/plain": [
       "<IPython.core.display.HTML object>"
      ]
     },
     "metadata": {},
     "output_type": "display_data"
    },
    {
     "name": "stdout",
     "output_type": "stream",
     "text": [
      "(0, 1074)\n"
     ]
    },
    {
     "data": {
      "text/html": [
       "<span class=\"tex2jax_ignore\"><h2 style=\"margin: 0\">johannes vogel | FDP | 54550</h2>\n",
       "\n",
       "<div class=\"entities\" style=\"line-height: 2.5; direction: ltr\">Große Koalition muss Beitragszahler entlasten Zur den Arbeitsmarktzahlen erklärt der arbeitsmarktpolitische Sprecher der FDP Fraktion Johannes Vogel : Die erfreulichen Arbeitsmarktdaten und die neuen Zahlen zum Haushalt der Bundesagentur für Arbeit zeigen : Eine Senkung des Arbeitslosenversicherungsbeitrages um 0,3 Prozentpunkte wäre eine Zumutung für die Beitragszahlerinnen und Beitragszahler ! Das wäre gerade gegenüber Geringverdienern unfair, die von Sozialabgaben besonders belastet werden . Der Bundesagentur stehen Rücklagen von mehr als 20 Milliarden Euro zur Verfügung . Alle Experten sind sich einig, dass man damit auch für eine große Krise gut gewappnet sei . Die FDP Fraktion fordert daher eine Entlastung der Beitragszahler um 0,5 Prozentpunkte . Selbst bei einem Beitragssatz von dann 2,5 Prozent stünde auch künftig ausreichend Geld zur Verfügung, um sogar noch mehr in die Weiterbildung der Beschäftigten zu investieren . Dieses richtige Ziel kann daher nicht länger als Scheinargument der Großen Koalition gegen eine ausreichende Entlastung herhalten .</div></span>"
      ],
      "text/plain": [
       "<IPython.core.display.HTML object>"
      ]
     },
     "metadata": {},
     "output_type": "display_data"
    },
    {
     "name": "stdout",
     "output_type": "stream",
     "text": [
      "(0, 1824)\n"
     ]
    },
    {
     "data": {
      "text/html": [
       "<span class=\"tex2jax_ignore\"><h2 style=\"margin: 0\">reinhard houben | FDP | 54914</h2>\n",
       "\n",
       "<div class=\"entities\" style=\"line-height: 2.5; direction: ltr\">Wirtschaft tatsächlich entlasten und von bürokratischen Hemmnissen befreien Der wirtschaftspolitische Sprecher der FDP Fraktion Reinhard Houben gab zur Nationalen Industriestrategie 2030 folgendes Statement ab : Ich habe den Eindruck, Peter Altmaier scheint irgendwie Angst zu haben . Angst vor den Chinesen . Und es ist schon fast eine Binsenweisheit : Angst ist ein schlechter Berater . Und all die Äußerungen, auch wenn er immer wieder Ludwig Erhard zitiert, es geht letztendlich um Planwirtschaft . Und Erfahrungen zum Thema Planwirtschaft haben wir nun in der DDR eigentlich ausführlich genossen . Und auch in der Bundesrepublik Deutschland hat es durchaus schlechte Beispiele für Industriepolitik gegeben . . . . Wir als FDP Fraktion sind der Meinung, dass wir mutige neue Schritte machen sollten und die Wirtschaft tatsächlich entlasten und sie befreien von bürokratischen Hemmnissen . Es gibt eine ganze Menge Möglichkeiten im Bereich von Steuern und Abgaben : Ich sage Solidaritätszuschlag oder auch die Unternehmenssteuerreform steht an . Wir sind da im Wettbewerb mit Frankreich und den USA und dort sollten wir erst einmal aktiv werden . Des Weiteren : Fachkräftemangel . Warum bekommen wir nicht endlich ein vernünftiges Einwanderungsgesetz nach kanadischem Modell ? Wir fordern das seit Jahren . Wir kommen nicht voran in der Frage und die Unternehmen leiden unter mangelnden Fachkräften . Und als Letztes : Wenn Herr Altmaier nicht besonders ausgelastet ist, sollte er nicht solche Industriepapiere schreiben, sondern sich mehr um Freihandel kümmern . TTIP neu auflegen, vielleicht mit einem anderen Titel, aber den Versuch zu starten, wieder mit den USA ins Gespräch zu kommen beim Freihandel . Und deutsche Interessen in China vertreten und hier keine bürokratischen Monster aufbauen, das wäre sinnvoller .</div></span>"
      ],
      "text/plain": [
       "<IPython.core.display.HTML object>"
      ]
     },
     "metadata": {},
     "output_type": "display_data"
    },
    {
     "name": "stdout",
     "output_type": "stream",
     "text": [
      "(0, 1421)\n"
     ]
    },
    {
     "data": {
      "text/html": [
       "<span class=\"tex2jax_ignore\"><h2 style=\"margin: 0\">christian lindner | FDP | 54401</h2>\n",
       "\n",
       "<div class=\"entities\" style=\"line-height: 2.5; direction: ltr\">Der Bildungsföderalismus hat nur eine Chance, wenn er modernisiert wird Der FDP Fraktionsvorsitzende Christian Lindner gab zur ersten Sitzung des Vermittlungsausschusses folgendes Statement ab : Wir gehen mit einer gewissen Spannung jetzt in die Sitzung des gemeinsamen Ausschusses, des Vermittlungsausschusses . Für uns ist klar : Es geht heute nicht nur um den Digitalpakt, sondern es geht um eine Reform der Zusammenarbeit von Bund und Ländern . Wir wollen, dass bei der Schlüsselaufgabe, der Bildung, es möglich wird, dass Bund und Länder besser zusammenwirken, als es gegenwärtig der Fall ist . Über den Digitalpakt hinaus geht es um die Förderung etwa mathematisch naturwissenschaftlicher Fächer in der Zukunft . Denkbar ist, dass sich der Bund engagiert bei der Förderung von Kindern und Jugendlichen mit Migrationshintergrund und anderem mehr . Es geht hier wirklich um eine Reformbaustelle seit vielen Jahren, die einer Mehrheit der Menschen in Deutschland ein Dorn im Auge ist . Wir akzeptieren natürlich, dass es die Kultushoheit der Länder gibt . Aber aus dem Zusammenwirken, mit den gesamtstaatlichen Finanzierungsmöglichkeiten, können wir einfach zusätzliche Handlungsfähigkeit entwickeln, die wir in dieser wichtigen Frage brauchen . Anders gesagt : Der Bildungsföderalismus soll bleiben . Aber er hat nur eine Chance, wenn er modernisiert wird . Und darüber wollen wir gerne sprechen und uns einbringen .</div></span>"
      ],
      "text/plain": [
       "<IPython.core.display.HTML object>"
      ]
     },
     "metadata": {},
     "output_type": "display_data"
    },
    {
     "name": "stdout",
     "output_type": "stream",
     "text": [
      "(0, 1337)\n"
     ]
    },
    {
     "data": {
      "text/html": [
       "<span class=\"tex2jax_ignore\"><h2 style=\"margin: 0\">grigorios aggelidis | FDP | 54848</h2>\n",
       "\n",
       "<div class=\"entities\" style=\"line-height: 2.5; direction: ltr\">Das Starke Familien Gesetz geht am Kern des Problems vorbei Zum Kabinettsbeschluss des Starke Familien Gesetzes erklärt der familienpolitische Sprecher der FDP Fraktion Gregorios Aggelidis : Die Fraktion der Freien Demokraten fordert, dass endlich alle Familien, die Unterstützung brauchen, sie leicht und unbürokratisch erhalten . Die Bundesregierung hat allerdings wieder ein Gesetz beschlossen, das mit großem Namen blendet . Darin enthalten sind nämlich nur Änderungen an den bestehenden Leistungen . Der Kinderschutzbund liegt richtig, wenn er den Gesetzentwurf als Starke Bürokratie Gesetz bezeichnet . Die Änderungen gehen am Kern des Problems vorbei : Der hohen Quote der Nicht Inanspruchnahme von Leistungen . Die größte Hürde bleibt weiterhin das komplizierte Verfahren bei der Beantragung des Kinderzuschlags . Dabei müssen die Familien auf fünf Seiten Angaben zu Miete, Schulbesuch, Schwangerschaft, Versicherung, Unterhalt, Fahrtkosten und mehr machen . Besser wäre daher die Bündelung aller Familienleistungen in einem Kinderchancengeld, wie es die FDP Fraktion fordert . Dieses beinhaltet eine einkommensunabhängige Förderung, darüberhinausgehende Unterstützung für bedürftige Familien und erhöhte Leistungen für Bildung und Teilhabe . Das Kinderchancengeld könnte schnell und unkompliziert online beantragt werden kann .</div></span>"
      ],
      "text/plain": [
       "<IPython.core.display.HTML object>"
      ]
     },
     "metadata": {},
     "output_type": "display_data"
    },
    {
     "name": "stdout",
     "output_type": "stream",
     "text": [
      "(0, 825)\n"
     ]
    },
    {
     "data": {
      "text/html": [
       "<span class=\"tex2jax_ignore\"><h2 style=\"margin: 0\">christian dürr | FDP | 54756</h2>\n",
       "\n",
       "<div class=\"entities\" style=\"line-height: 2.5; direction: ltr\">Union und SPD müssen Super Anleihen ablehnen Zum Vorschlag, sogenannte Sovereign Bond Backed Securities einzuführen, erklärt der stellvertretende FDP Fraktionsvorsitzende Christian Dürr : Solche Super Anleihen sind keine neue Erfindung . Sie wären eine staatlich organisierte Neuauflage von Asset Backed Securities, die zur Banken und Finanzkrise 2008 geführt haben . Trotz eines anderen Namens bleiben sie, was sie im Kern sind : Schrottanleihen . Das wäre nicht nur der erste Schritt in die Schuldenunion, sondern auch ein hohes Risiko für den Euroraum . Union und SPD müssen diesen Vorschlag daher schnellstmöglich ablehnen und finanzpolitische Vernunft walten lassen . Die Methode Merkel, alle Unterschiede mit Milliarden der deutschen Steuerzahler zuzuschütten, darf nicht auch noch auf europäischer Ebene stattfinden .</div></span>"
      ],
      "text/plain": [
       "<IPython.core.display.HTML object>"
      ]
     },
     "metadata": {},
     "output_type": "display_data"
    },
    {
     "name": "stdout",
     "output_type": "stream",
     "text": [
      "(0, 912)\n"
     ]
    },
    {
     "data": {
      "text/html": [
       "<span class=\"tex2jax_ignore\"><h2 style=\"margin: 0\">bijan djir-sarai | FDP | 54040</h2>\n",
       "\n",
       "<div class=\"entities\" style=\"line-height: 2.5; direction: ltr\">EU Beitrittsverhandlungen mit der Türkei stoppen Zur Vereidigung des türkischen Präsidenten Erdogans erklärt der außenpolitische Sprecher der FDP Fraktion Bijan Djir Sarai : Die neue Entlassungswelle in der Türkei zeigt, dass Präsident Erdogan seinem Volk die Daumenschrauben weiter anziehen will und wird . So verabschiedet sich die Erdogan Türkei endgültig von den europäischen Werten, wie Rechtsstaatlichkeit und Demokratie . Die Bundesregierung muss konsequent darauf reagieren und auf den sofortigen Stopp der EU Beitrittsverhandlungen drängen . Gleichzeitig müssen die finanziellen Vorbeitrittshilfen eingestellt werden . Anstelle eines EU Beitritts sollten der Türkei Gespräche über einen neuen Grundlagenvertrag angeboten werden . Denn der Gesprächsfaden darf nicht komplett abreißen und eine Zusammenarbeit, etwa bei der Energiepolitik, Migrationspolitik und Terrorbekämpfung muss weiter möglich sein .</div></span>"
      ],
      "text/plain": [
       "<IPython.core.display.HTML object>"
      ]
     },
     "metadata": {},
     "output_type": "display_data"
    },
    {
     "name": "stdout",
     "output_type": "stream",
     "text": [
      "(0, 1088)\n"
     ]
    },
    {
     "data": {
      "text/html": [
       "<span class=\"tex2jax_ignore\"><h2 style=\"margin: 0\">linda teuteberg | FDP | 54659</h2>\n",
       "\n",
       "<div class=\"entities\" style=\"line-height: 2.5; direction: ltr\">Müssen klare Erwartungen bei Integration formulieren Zur Bundeskonferenz der Integrationsbeauftragten von Bund, Ländern und Kommunen erklärt die migrationspolitische Sprecherin der FDP Fraktion Linda Teuteberg : Wir brauchen eine ehrliche Debatte darüber, was das Gelingen von Integration fördert und was sie blockiert . Dabei müssen auch Konflikte offen angesprochen und klare Erwartungen formuliert werden . Dazu gehören zum Beispiel ein Verbot der Mehrehe bei Einbürgerungen und die gewissenhafte Prüfung eines Kopftuchverbotes in Kindergärten und Schulen für religionsunmündige Mädchen . Gleichzeitig müssen wir die Angebote zur Integration und die Qualität von Sprachkursen dringend weiter verbessern . So ist es etwa ein großes Problem, dass ausgerechnet junge Mütter oft keinen Integrationskurs absolvieren . Wir müssen aufpassen, dass Frauen nicht durch traditionelle soziale Konventionen von Bildungsangeboten und der Integration in unsere Gesellschaft abgehalten werden . Deshalb fordert die FDP Fraktion, dass die Teilnahme an Integrationskursen konsequent durchgesetzt wird .</div></span>"
      ],
      "text/plain": [
       "<IPython.core.display.HTML object>"
      ]
     },
     "metadata": {},
     "output_type": "display_data"
    },
    {
     "name": "stdout",
     "output_type": "stream",
     "text": [
      "(0, 3948)\n"
     ]
    },
    {
     "data": {
      "text/html": [
       "<span class=\"tex2jax_ignore\"><h2 style=\"margin: 0\">marco buschmann | FDP | 54174</h2>\n",
       "\n",
       "<div class=\"entities\" style=\"line-height: 2.5; direction: ltr\">Diese Hängepartie kann kein Dauerzustand sein Der Erste Parlamentarische Geschäftsführer der FDP Fraktion Dr Marco Buschmann gab zum Asylstreit folgendes Statement ab : Das Wochenende ist überlagert durch zwei Konflikte . Es gibt einmal eine Sachdebatte und es gibt eine Machtdebatte . In der Sachdebatte geht es um die illegale Sekundärmigration, die beim Europäischen Rat beraten worden ist . Deutschland ist eines der Hauptländer, in das illegale Sekundärmigration stattfindet . Deutschland hat weniger als 20 Prozent der Einwohner Europas, aber über 40 Prozent der EU Asylanträge werden hier gestellt . Daran können wir erkennen, dass insbesondere Deutschland ein Interesse daran haben muss, dass wir dieses Problem in den Griff bekommen . Ob das gelingen wird, ist völlig unklar . Denn die Vereinbarung, die mit Griechenland und Spanien in Aussicht gestellt worden sind, sind vom Inhalt her noch völlig unklar . Es ist ja nicht einseitig festgelegt worden, dass diese Länder Migranten zurücknehmen, sondern Deutschland hat sich auch gleichzeitig verpflichtet, im Rahmen der Familienzusammenführung auch Menschen aufzunehmen . Ob das unter dem Strich bedeutet, dass mehr oder weniger Menschen nach Deutschland kommen, wird man erst dann beurteilen können, wenn man die Details dieser Vereinbarung kennt . Im Übrigen ist auch völlig unklar, ob es zu diesen 14 Übereinkommen mit anderen EU Staaten kommen wird . Denn wir wissen ja mittlerweile nicht mal, ob es dazu kommen wird, geschweige denn, welchen Inhalt sie haben . Das ist ja im Laufe des gestrigen Tages auch wieder viel dementiert worden, insbesondere von osteuropäischen Staaten . Also unter dem Strich kann man bei wohlwollender Betrachtung sagen : Vielleicht haben die Staats und Regierungschefs mit einem Kompass gemeinsam festgelegt, in welche Richtung sie gehen wollen . Aber ob sie losmarschieren und mit welchem Tempo sie das tun, das kann man nicht sagen, weil nicht mal der erste Schritt gemacht worden ist bislang . Auf der anderen Seite wird dieser Sonntag durch eine Machtdebatte, durch eine interne Auseinandersetzung in Deutschland, in der Union, überlagert . Die CSU streitet mit der CDU und das ist natürlich einigermaßen kurios, als dass beide Parteien eine Regierung gebildet haben, die erst gut 100 Tage im Amt ist und sie vor wenigen Monaten noch gemeinsam alle Konflikte behandeln konnten im Rahmen von Koalitionsverhandlungen . Die Tatsache, dass sie jetzt so im Streit miteinander liegen zeigt, dass es Angela Merkel nicht gelungen ist, hier Konflikte zu lösen, sondern die Konflikte sind offenbar nur aufgeschoben worden . Das ist dramatisch für Deutschland, denn die größte Volkswirtschaft Europas bräuchte jetzt eigentlich eine handlungsfähige Regierung, um das Thema Migration in den Griff zu bekommen aber auch Impulse für Bildung, Digitalisierung und Innovation zu setzen . Und es ist nach wie vor ein Treppenwitz, dass die Debatte in Deutschland dominiert wird von einem mysteriösen Papier, einem Masterplan, den offenkundig noch niemand außer Angela Merkel und Horst Seehofer gesehen haben . Jetzt tauchen erste Berichte darüber auf, dass er in Bayern verteilt wird . Horst Seehofer hat sich jetzt selber ohne Not in eine Dilemma Situation versetzt, denn entweder wird er am Montag seine politische Glaubwürdigkeit verloren haben oder er wird sein Staatsamt verloren haben . Das hat er sich selber zuzuschreiben . Wir fordern die Bundesregierung jetzt auf, so schnell wie möglich handlungsfähig zu werden . Wir fordern die Fraktion und die Parteien, die die Bundesregierung tragen auf, sich so schnell wie möglich zu einigen und ihrer Pflicht nachzukommen, nämlich kein Chaos zu veranstalten, nicht weiter zu blockieren, sondern das Land zu regieren . Wenn sie dazu nicht in der Lage sind, sieht die Verfassung Wege vor, wie man diesen Zustand überwinden kann . Aber diese Hängepartie kann kein Dauerzustand für die größte Volkswirtschaft Europas sein .</div></span>"
      ],
      "text/plain": [
       "<IPython.core.display.HTML object>"
      ]
     },
     "metadata": {},
     "output_type": "display_data"
    },
    {
     "name": "stdout",
     "output_type": "stream",
     "text": [
      "(0, 907)\n"
     ]
    },
    {
     "data": {
      "text/html": [
       "<span class=\"tex2jax_ignore\"><h2 style=\"margin: 0\">michael theurer | FDP | 53837</h2>\n",
       "\n",
       "<div class=\"entities\" style=\"line-height: 2.5; direction: ltr\">Große Koalition muss Gesetzentwurf zur CETA Ratifizierung einbringen Zur Abstimmung der französischen Nationalversammlung über das Freihandelsabkommen CETA erklärt der stellvertretende FDP Fraktionsvorsitzende Michael Theurer : Wenn selbst Frankreich entschlossener für den Freihandel eintritt als Deutschland, läuft etwas gehörig schief . Deutschland und Frankreich müssten als europäischer Motor gemeinsam vorangehen . Obwohl die Ratifizierung von CETA im Koalitionsvertrag vorgesehen ist, hat die Große Koalition bis heute keinen Gesetzentwurf hierfür vorgelegt . Der Gesetzentwurf der FDP Fraktion zur CETA Ratifizierung wurde von Union und SPD hingegen abgelehnt . Die Spirale aus Protektionismus und Abschottung muss durchbrochen und CETA endlich ratifiziert werden . Die FDP Fraktion fordert die Große Koalition auf, unmittelbar nach der Sommerpause einen entsprechenden Gesetzentwurf einzubringen .</div></span>"
      ],
      "text/plain": [
       "<IPython.core.display.HTML object>"
      ]
     },
     "metadata": {},
     "output_type": "display_data"
    },
    {
     "name": "stdout",
     "output_type": "stream",
     "text": [
      "(0, 1257)\n"
     ]
    },
    {
     "data": {
      "text/html": [
       "<span class=\"tex2jax_ignore\"><h2 style=\"margin: 0\">christian dürr | FDP | 54754</h2>\n",
       "\n",
       "<div class=\"entities\" style=\"line-height: 2.5; direction: ltr\">Dem DGB Vorsitzenden kommt die Vernunft abhanden Zu den finanzpolitischen Forderungen des DGB Vorsitzenden Reiner Hoffmann erklärt der stellvertretende FDP Fraktionsvorsitzende Christian Dürr : Dem DGB Vorsitzenden scheint beim Gedanken an ein SPD geführtes Bundesfinanzministerium die finanzpolitische Vernunft abhanden zu kommen . Anders lassen sich seine völlig maßlosen Ausgaben und Steuerpläne nicht erklären . Es wird aber auch deutlich, welche Gefahr mit einem sozialdemokratischen Finanzminister drohen könnte . Die Forderung Hoffmanns nach Aufgabe der schwarzen Null ginge voll zulasten der Mitte der Gesellschaft . Es wäre der Wiedereinstieg in die Schuldenpolitik und ein fatales Signal für Europa . Schon jetzt wollen Union und SPD Milliarden Steuergeld mit der Gießkanne verteilen, diese muss kleiner und nicht größer werden . Dass Hoffmann Mittelstand und Familienbetriebe mit Steuererhöhungen dafür bezahlen lassen will, ist hochgradig unvernünftig . In Anbetracht einer US Unternehmensteuerreform kleine und mittelständische Unternehmen stärker zu belasten, wäre Gift für die Arbeitsplätze in unserem Land . Damit richten sich die Forderungen des DGB Chefs unmittelbar gegen seine eigenen Mitglieder . Sie müssten am Ende die Zeche zahlen .</div></span>"
      ],
      "text/plain": [
       "<IPython.core.display.HTML object>"
      ]
     },
     "metadata": {},
     "output_type": "display_data"
    },
    {
     "name": "stdout",
     "output_type": "stream",
     "text": [
      "(0, 1523)\n"
     ]
    },
    {
     "data": {
      "text/html": [
       "<span class=\"tex2jax_ignore\"><h2 style=\"margin: 0\">otto fricke | FDP | 54221</h2>\n",
       "\n",
       "<div class=\"entities\" style=\"line-height: 2.5; direction: ltr\">Es ist ein Haushalt des Weiter so Der haushaltspolitische Sprecher der FDP Fraktion Otto Fricke gab zum Haushalt 2019 folgendes Statement ab : Wir hatten heute als Haushaltsausschuss nochmal eine letzte Runde vor der sogenannten Sommerpause . Der Finanzminister hat vorgetragen, aber er hat dieselben Geschichten erzählt, die er in den vergangenen Wochen auch erzählt hat . Er hat von einem zukunftsorientierten Haushalt gesprochen, faktisch ist es ein Haushalt des Weiter so . Wir sehen, dass an allen Ecken und Enden der Haushalt nur in dieselbe Richtung geht, die wir schon erfahren haben . Es werden dieselben Ausgaben dargestellt, die wir bisher schon hatten . Es wird an keiner Stelle wirklich gesagt : Ich verzichte auf eine Ausgabe . Es werden die Subventionen hochgefahren . Es werden sogar, und das muss man sagen, Subventionen wie das Baukindergeld, die inzwischen mit über einer halben Milliarde anstehen, dann auch noch als Investitionen verkauft und so wird versucht, die Investitionsmittel nach oben zu ziehen . Letztlich ist das ein Haushalt, der versucht, das Haus Deutschland ein wenig zu renovieren, faktisch aber nur die Flicken ein wenig zu reparieren . Es ist keine Modernisierung . Und hier muss man ganz klar sagen : Das führt dann dazu, dass ich zwar unheimlich viel mehr ausgebe, aber Entlastungen für die Bürger gibt es gerade mal bei der verfassungsrechtlich gebotenen Anpassung des Kindergeldes, darüber hinaus nicht . Es ist ein Haushalt, nicht der Ideen, sondern ein Haushalt des Weiter so .</div></span>"
      ],
      "text/plain": [
       "<IPython.core.display.HTML object>"
      ]
     },
     "metadata": {},
     "output_type": "display_data"
    },
    {
     "name": "stdout",
     "output_type": "stream",
     "text": [
      "(0, 4104)\n"
     ]
    },
    {
     "data": {
      "text/html": [
       "<span class=\"tex2jax_ignore\"><h2 style=\"margin: 0\">frank sitta | FDP | 54884</h2>\n",
       "\n",
       "<div class=\"entities\" style=\"line-height: 2.5; direction: ltr\">Digitales Schlusslicht : Deutschland braucht mehr Wettbewerb und 5G Funkmasten Der stellvertretende FDP Fraktionsvorsitzende Frank Sitta schrieb für Focus Online den folgenden Gastbeitrag : Die Causa Maaßen bestimmt die Agenda des politischen Berlins . Daneben drohen entscheidende Themen für die Zukunft des Landes unterzugehen . Eines dieser ist die Frage, ob Deutschland in Zeiten der Digitalisierung seine Stellung als führender Wirtschaftsstandort beibehält oder den Anschluss im internationalen Wettbewerb verlieren wird . Es geht um die anstehende Versteigerung von neuen Mobilfunkfrequenzen durch die Bundesnetzagentur . Noch heute baden die Bürger eine Fehleinschätzung der Politik aus den 2000er Jahren aus und bezahlen deshalb weltweit mit die höchsten Gebühren für Mobilfunkverträge . Denn damals wurde bei der Versteigerung von Lizenzen statt auf Wettbewerb und Infrastrukturinvestitionen vor allem auf hohe Versteigerungserlöse für den Staat gesetzt . Diese hohen Kosten haben die Mobilfunkunternehmen dann natürlich an die Verbraucher weitergegeben . Zum Vergleich : für 30 Euro bekommt der deutsche Verbraucher 15 Gigabyte Datenvolumen im Mobilfunk . in Frankreich, Großbritannien, den Niederlanden und weiteren europäischen Ländern für denselben Betrag über 100 Gigabyte . Es fehlt im deutschen Mobilfunkmarkt an Wettbewerb und Investitionen . Sogar die OECD stellte fest, dass eine größere Zahl von Mobilfunkanbietern zu innovativeren Diensten und niedrigeren Preisen führen würde . Dies erhöht die Nachfrage nach schnellem Gigabit Breitband und Mobilfunkdiensten, was wiederum einen höheren Anreiz zu einem raschen Netzausbau bedeuten würde . Ohne den Markteintritt eines vierten Anbieters würde sich allerdings das Oligopol im deutschen Mobilfunkmarkt weiter verfestigen . Ein solcher Markteintritt erfordert jedoch Instrumente wie National Roaming oder verschärfter Diensteanbieterverpflichtungen . So könnte ein potentieller vierter Anbieter auf Basis des Bestandsnetzes in den Wettbewerb eintreten . Aus dem Stand ein eigenes Netz in Deutschland aufbauen, wird demgegenüber nur schwer möglich sein . Sinnvoll wäre daher zumindest eine zeitlich befristete Verpflichtung, um einem vierten Anbieter den Zugang zu anderen Netzen zu gewährleisten, bis dieser seine eigene Infrastruktur aufbauen konnte . Außerdem muss die Bundesnetzagentur eine Schiedsrichterrolle bei Verhandlungen zwischen den Anbietern übernehmen . Leider tritt sie derzeit allerdings als Schiedsrichter ohne Karten auf . Daran ist jedoch nicht unbedingt die Agentur schuld, denn der Rechtsrahmen für ein verpflichtendes National Roaming oder eine Diensteanbieterverpflichtung ist strittig . Womit wir bei der Rolle der Großen Koalition wären . Die gerade die 5G Versteigerung zulasten des Wettbewerbs und der Verbraucher verstolpert : Vollmundig hatte Schwarz Rot angekündigt, Deutschland solle zum Leitmarkt für 5G werden . Aber die Koalition hat es in den vergangenen Jahren versäumt, überhaupt geeigneten Rechtsrahmen dafür zu schaffen . Dies haben nun auch Teile der Unions Bundestagsfraktion mit Entsetzen erkannt . Sie fordern in einem Brandbrief nun, innerhalb der Bundesregierung nochmals kurzfristig einen Prüfungsprozess anzustoßen, ob denn ein kurzes Aussetzen der Versteigerung nicht sinnvoller erscheinen würde . Die Union liefert somit selbst den Beweis für das Totalversagen der Digitalpolitik der Bundesregierung . Während bis 2020 in China 10 000 neue 5G fähige Antennenmasten geplant sind, gibt sich Deutschland mit ambitionslosen 500 zufrieden . Außerdem investieren in den Vereinigten Staaten die Mobilfunkanbieter, unter anderem die Deutschen Telekom, über 100 Milliarden US Dollar in die Infrastruktur . In Deutschland bleiben solche Ambitionen aus . Es herrscht Einigkeit darüber, dass wir zügig Funklöcher schließen und uns auf den neuen Mobilfunkstandard vorbereiten müssen . Technologien wie 5G müssen in Zukunft unseren Wohlstand und unsere Wettbewerbsfähigkeit in Deutschland sichern . Wie es aussieht, wird die Koalition dank wöchentlichen internen Querelen auch diesen Zug verpassen .</div></span>"
      ],
      "text/plain": [
       "<IPython.core.display.HTML object>"
      ]
     },
     "metadata": {},
     "output_type": "display_data"
    },
    {
     "name": "stdout",
     "output_type": "stream",
     "text": [
      "(0, 1206)\n"
     ]
    },
    {
     "data": {
      "text/html": [
       "<span class=\"tex2jax_ignore\"><h2 style=\"margin: 0\">johannes vogel | FDP | 54552</h2>\n",
       "\n",
       "<div class=\"entities\" style=\"line-height: 2.5; direction: ltr\">Rentenpolitik der Großen Koalition ist ein schlechter Witz Zur ersten Sitzung der Rentenkommission der Bundesregierung erklärt der rentenpolitische Sprecher der FDP Fraktion Johannes Vogel : Die Rentenpolitik der Großen Koalition ist ein schlechter Witz : Zuerst sollen Leistungsausweitungen verbindlich ins Gesetz geschrieben werden, die weit über diese Legislaturperiode hinaus reichen . Und dann darf die Rentenkommission sich Gedanken darüber machen, wie das in Zukunft finanziert werden soll . Ehrliche Politik sieht anders aus : Bis zu den Kommissionsergebnissen müssten alle teuren Maßnahmen gestoppt werden . Denn schon jetzt belaufen sich die Mehrkosten bis 2030 allein durch die Wahlgeschenke und die Manipulation der Rentenformel auf über 130 Milliarden Euro . Besonders destabilisierend ist die Aussetzung des Nachhaltigkeitsfaktors, weil dadurch die Kosten langfristig völlig aus dem Ruder laufen . Stattdessen fordert die FDP Fraktion eine Rentenpolitik, die endlich wieder in Jahrzehnten denkt . Richtig wäre es, die Chancen der guten Arbeitsmarktlage und des digitalen Wandels für die Rente zu nutzen . Etwa mit der Einführung eines flexiblen Renteneintritts nach skandinavischem Vorbild .</div></span>"
      ],
      "text/plain": [
       "<IPython.core.display.HTML object>"
      ]
     },
     "metadata": {},
     "output_type": "display_data"
    },
    {
     "name": "stdout",
     "output_type": "stream",
     "text": [
      "(0, 1240)\n"
     ]
    },
    {
     "data": {
      "text/html": [
       "<span class=\"tex2jax_ignore\"><h2 style=\"margin: 0\">nicola beer | FDP | 54692</h2>\n",
       "\n",
       "<div class=\"entities\" style=\"line-height: 2.5; direction: ltr\">Lehrer müssen endlich nach Leistung bezahlt werden Zur OECD Bildungsstudie 2018 erklärt die bildungspolitische Sprecherin der FDP Fraktion Nicola Beer : Die neue OECD Studie zur Bildung zeigt, dass deutsche Lehrkräfte im internationalen Vergleich überdurchschnittlich verdienen, aber Deutschland eines der letzten Länder ist, in dem Lehrer laufbahnbezogen statt leistungsabhängig bezahlt werden . Das bedeutet, wir motivieren Lehrer weniger, als wir könnten . Es fehlen Anreize, die in anderen Berufen selbstverständlich sind . Für die weltbeste Bildung brauchen wir aber die weltbesten Lehrkräfte . Die Zufriedenheit von Lehrkräften richtet sich jedoch nicht nur nach dem Gehalt . Zusatzbelastungen erschweren ihre Arbeit . Dazu gehören Verwaltungsaufgaben, der Aufwand durch Integration und Inklusion bei gleichzeitigem Lehrermangel sowie eine überholte Ausstattung bei Hard und Software . Hohe Krankenstände und viele Frühverrentungen sind oft die Folge . Nur wenn uns beides gelingt, Lehrer angemessen zu bezahlen und ihnen Hindernisse aus dem Weg zu räumen, können wir unser Bildungspotenzial wirklich ausschöpfen . Denn Bildung ist der wichtigste Baustein für die Lebenschancen eines jeden einzelnen und unseren künftigen Wohlstand .</div></span>"
      ],
      "text/plain": [
       "<IPython.core.display.HTML object>"
      ]
     },
     "metadata": {},
     "output_type": "display_data"
    },
    {
     "name": "stdout",
     "output_type": "stream",
     "text": [
      "(0, 1104)\n"
     ]
    },
    {
     "data": {
      "text/html": [
       "<span class=\"tex2jax_ignore\"><h2 style=\"margin: 0\">manuel höferlin | FDP | 54596</h2>\n",
       "\n",
       "<div class=\"entities\" style=\"line-height: 2.5; direction: ltr\">Union und SPD werfen uns um Jahre zurück Zu den Sondierungsergebnissen zum Netzausbau erklärt der Abgeordnete der FDP Fraktion Manuel Höferlin : Deutschland hinkt bei schnellem Internet hinterher . Der gewaltige Nachholbedarf bei Gigabitnetzen in Deutschland ist allgemein bekannt . Daran wird sich nach den Plänen von Union und SPD leider nichts ändern . Denn diese sind dafür völlig ungeeignet . So sollen lediglich die Erlöse aus Lizenzvergaben in den Netzausbau fließen . Das ist nicht nur viel zu wenig, sondern wird am Ende noch weniger, weil die Lizenzen durch zusätzliche Auflagen unattraktiver werden . Wenn der Ausbau von schnellem Internet funktionieren soll, muss stattdessen mehr und verlässlicher investiert werden . Die Fraktion der Freien Demokraten will deshalb neben den Lizenzerlösen auch Privatisierungserlöse einsetzen . Beispielsweise aus den Anteilen des Bundes an Telekom und Post . Auf diese Weise wären die Investitionen in den Netzausbau nicht nur ausreichend, sondern auch verlässlich . So bringt man den Netzausbau voran . Union und SPD werfen uns hingegen um Jahre zurück .</div></span>"
      ],
      "text/plain": [
       "<IPython.core.display.HTML object>"
      ]
     },
     "metadata": {},
     "output_type": "display_data"
    },
    {
     "name": "stdout",
     "output_type": "stream",
     "text": [
      "(0, 1170)\n"
     ]
    },
    {
     "data": {
      "text/html": [
       "<span class=\"tex2jax_ignore\"><h2 style=\"margin: 0\">stefan ruppert | FDP | 54451</h2>\n",
       "\n",
       "<div class=\"entities\" style=\"line-height: 2.5; direction: ltr\">Union und SPD müssen Reformwillen bei Wahlrecht beweisen Zur Forderung von Bundeswirtschaftsminister Altmaier nach Reformen des politischen Systems erklärt der Parlamentarische Geschäftsführer der FDP Fraktion Dr Stefan Ruppert : Es war überfällig, dass sich die Union mit der Reform unseres politischen Systems befasst . Die FDP Fraktion fordert schon lange eine Modernisierung des Parlamentarismus, um die Akzeptanz zu stärken . Dafür muss vor allem das Parlament verkleinert werden . Eine faire und wirksame Lösung ist bislang jedoch an der Blockade der Union gescheitert, die nicht mal einen Gesetzentwurf vorgelegt hat . Wir werden sehen, ob der Appell Altmaiers Wirkung zeigt . Union und SPD haben bereits in der nächsten Woche Gelegenheit, ihren Reformwillen zu beweisen, wenn der gemeinsame Wahlrechtsentwurf der Fraktionen von FDP, Grünen und Linken im Deutschen Bundestag debattiert wird . Die von Altmaier zudem kritisierte Zunahme an Staatssekretären hat er als Kanzleramtschef selbst massiv vorangetrieben . Gut, dass er sich in dieser Frage nun korrigiert . Die Zahl der Staatssekretäre sollte auf wenige Stellen mit konkreten Aufgaben beschränkt werden .</div></span>"
      ],
      "text/plain": [
       "<IPython.core.display.HTML object>"
      ]
     },
     "metadata": {},
     "output_type": "display_data"
    },
    {
     "name": "stdout",
     "output_type": "stream",
     "text": [
      "(0, 848)\n"
     ]
    },
    {
     "data": {
      "text/html": [
       "<span class=\"tex2jax_ignore\"><h2 style=\"margin: 0\">martin neumann | FDP | 54261</h2>\n",
       "\n",
       "<div class=\"entities\" style=\"line-height: 2.5; direction: ltr\">Grüne fallen in Hambach dem Rechtsstaat in den Rücken Zur Räumung des Hambacher Forsts erklärt der energiepolitische Sprecher der FDP Fraktion Prof Dr Martin Neumann : Die Räumung ist nicht zu beanstanden . Die Vorwürfe der Grünen sind haltlos und rein ideologisch motiviert . Die Grünen selbst haben in der NRW Landesregierung 2016 die Rechtsgrundlage für die Abholzung des Hambacher Forsts mitgeschaffen . Jetzt fallen sie dem Rechtsstaat wohlfeil in den Rücken und gießen munter Öl ins Feuer . Genau wie in der Diskussion über die Energiewende operieren die Grünen lieber mit Emotionen als mit Fakten . Fakt ist : RWE hat das Recht, den Hambacher Forst für die Kohleförderung nutzbar zu machen . Damit wird auch den Entscheidungen der Kohlekommission mitnichten vorgegriffen . Den Kohleausstieg kann man nicht einfach widerrechtlich erzwingen .</div></span>"
      ],
      "text/plain": [
       "<IPython.core.display.HTML object>"
      ]
     },
     "metadata": {},
     "output_type": "display_data"
    },
    {
     "name": "stdout",
     "output_type": "stream",
     "text": [
      "(0, 3214)\n"
     ]
    },
    {
     "data": {
      "text/html": [
       "<span class=\"tex2jax_ignore\"><h2 style=\"margin: 0\">marco buschmann | FDP | 54175</h2>\n",
       "\n",
       "<div class=\"entities\" style=\"line-height: 2.5; direction: ltr\">Die Regierung muss endlich anfangen zu regieren Der Erste Parlamentarische Geschäftsführer der FDP Fraktion Dr Marco Buschmann gab zum Koalitionsausschuss folgendes Statement ab : Das ist das derzeit schlechteste Regierungsmanagement, das dieses Land je gesehen hat . Die Regierung regiert nicht, sondern sie blockiert sich und das auf der Basis eines Papiers nämlich dem Masterplan, den keiner kennt . Da fassen nicht nur wir, sondern ich glaube auch die Bürgerinnen und Bürger in Deutschland, sich an den Kopf . Wie will man Probleme um ein Papier lösen, das keiner kennt . Das ist deshalb besonders ärgerlich, weil aufgrund dieses Konflikts wichtige Fragen liegen bleiben . Die Haushaltsberatungen werden jetzt um einen weiteren Tag verschoben . Wir schaffen es nicht über Themen wie Bildung und Digitalisierung zu sprechen über die in der ganzen Welt gesprochen wird . Die USA und China machen sich stärker wettbewerbsfähig, um in der Zukunft gut bestehen zu können . Und unsere Regierung schafft es nicht einmal sich intern zu einigen . Die Lösungstaktiken von Angela Merkel für solche Problemlagen treffen offenbar an ihre Grenzen . Ihr gelingt es nur noch bei Themen wie dem Baukindergeld scheinbare Lösungen zu erzielen nämlich immer dann, wenn die Lösung mit dem Geld der Steuerzahler herbeigeführt werden kann . Das Baukindergeld ist nichts weiter als eine Umetikettierung der alten Eigenheimzulage . Da waren sich alle Ökonomen einig, dass das nichts bringt . Besser wäre es, wir würden einen Grundfreibetrag bei der Grunderwerbssteuer einführen, denn jeder weiß, dass was Familien aber auch andere Menschen, die Eigentum erwerben wollen am meisten davon abhält, sind die sogenannten Baunebenkosten oder Erwerbsnebenkosten . Die angebliche zeitliche Befristung dieses Baukindergeldes ist auch vollkommen unseriös . Wir alle wissen, dass regulär im Jahr 2021 Wahlen stattfinden würden und niemand glaubt doch ernsthaft, dass eine oder gar beide Volksparteien in einem solchen Wahljahr darauf verzichten werden, diese Subvention zu verlängern . Die Maßnahme wäre nur allenfalls dann realistisch, wenn ohnehin beide regierungstragenden Parteien schon von vorgezogenen Neuwahlen ausgehen würden . Drittens meine ich, dass es jetzt endlich geboten ist, dass dieser mysteriöse Masterplan endlich vorgelegt wird damit wir darüber eine rationale Debatte führen können . Ich glaube wir erleben ja auch große Ablenkungsmanöver, wir wissen, dass es andere Fragen gibt, die von zentraler Bedeutung für die Sicherheitslage in Deutschland sind . Die Öffentlichkeit erlebt zurzeit, dass etwa in Nordrhein Westfalen der ehemaligen Leibwächter von Osama bin Laden abgeschoben werden soll . Der nordrhein westfälische Minister Joachim Stamp, der dafür zuständig ist, bemüht sich jeden Tag darum, stößt auf bürokratische Hürden . Beispielsweise fehlende Rückführungsabkommen, fehlende Pass Ersatz Papiere . Hier wäre der Innenminister aufgefordert, Lösungen vorzulegen und stattdessen wird über ein mysteriöses Papier diskutiert das nach wie vor niemand kennt . Das ist ein untragbarer Zustand . Deshalb fordere ich die Regierung auf, endlich aufzuhören sich selbst zu blockieren, sondern endlich anzufangen zu regieren .</div></span>"
      ],
      "text/plain": [
       "<IPython.core.display.HTML object>"
      ]
     },
     "metadata": {},
     "output_type": "display_data"
    },
    {
     "name": "stdout",
     "output_type": "stream",
     "text": [
      "(0, 1128)\n"
     ]
    },
    {
     "data": {
      "text/html": [
       "<span class=\"tex2jax_ignore\"><h2 style=\"margin: 0\">michael theurer | FDP | 53823</h2>\n",
       "\n",
       "<div class=\"entities\" style=\"line-height: 2.5; direction: ltr\">Große Koalition muss Wirtschaftswachstum stärken Zum Jahresgutachten des Sachverständigenrats erklärt der stellvertretende FDP Fraktionsvorsitzende Michael Theurer : Das Gutachten bestätigt einmal mehr : Wir brauchen Tempo für Deutschland . Die Große Koalition muss die von den Experten umrissenen Risiken ernst nehmen und das Wirtschaftswachstum endlich stärken . Ansonsten droht aus der Konjunktur eine handfeste Strukturkrise zu werden . Die FDP Fraktion fordert eine umfassende Agenda : Wie der Sachverständigenrat fordert, müssen die Unternehmen durch die vollständige Abschaffung des Soli bis zum 01 01 2020, eine Unternehmenssteuerreform und die Senkung der Stromsteuer entlastet werden . Auch eine zeitliche befristete Wiedereinführung der degressiven Abschreibung sollten Union und SPD angehen . So haben die Unternehmen den notwendigen finanziellen Spielraum, um Zukunftsinvestitionen zu tätigen und Arbeitsplätze zu sichern . Außerdem brauchen wir einen nationalen Zukunftsfonds zur Mobilisierung privaten Kapitals und sollten mit bürokratiearmen Freiheitszonen Experimentierräume für innovative Start ups schaffen .</div></span>"
      ],
      "text/plain": [
       "<IPython.core.display.HTML object>"
      ]
     },
     "metadata": {},
     "output_type": "display_data"
    }
   ],
   "source": [
    "for i in top:\n",
    "    visualize(i)"
   ]
  },
  {
   "cell_type": "code",
   "execution_count": null,
   "metadata": {},
   "outputs": [],
   "source": [
    "sample_str = '''54491\n",
    "32861\n",
    "33161\n",
    "29713\n",
    "39051\n",
    "32461\n",
    "34235\n",
    "32130\n",
    "34634\n",
    "33420\n",
    "54908\n",
    "54475\n",
    "54810\n",
    "54103\n",
    "54021\n",
    "53813\n",
    "54015\n",
    "55031\n",
    "54852\n",
    "55018\n",
    "62073\n",
    "84771\n",
    "71576\n",
    "84267\n",
    "81681\n",
    "75286\n",
    "64906\n",
    "60307\n",
    "84265\n",
    "61206'''\n",
    "s = sample_str.split('\\n')\n",
    "s = [int(i) for i in s]\n",
    "\n",
    "# ids = [int(i.split(\"\\n\")[0]) for i in sample_str]\n",
    "sample = [Document.query.filter_by(id=id).one() for id in s]"
   ]
  },
  {
   "cell_type": "code",
   "execution_count": 19,
   "metadata": {},
   "outputs": [],
   "source": [
    "doc_test = Document.query.filter_by(id=21366).first()"
   ]
  },
  {
   "cell_type": "code",
   "execution_count": 20,
   "metadata": {},
   "outputs": [
    {
     "data": {
      "text/plain": [
       "'plenar'"
      ]
     },
     "execution_count": 20,
     "metadata": {},
     "output_type": "execute_result"
    }
   ],
   "source": [
    "doc_test.corpus"
   ]
  },
  {
   "cell_type": "code",
   "execution_count": 18,
   "metadata": {},
   "outputs": [
    {
     "name": "stdout",
     "output_type": "stream",
     "text": [
      "(0, 13207)\n"
     ]
    },
    {
     "data": {
      "text/html": [
       "<span class=\"tex2jax_ignore\"><h2 style=\"margin: 0\">andreas mrosek | AfD | 78180</h2>\n",
       "\n",
       "<div class=\"entities\" style=\"line-height: 2.5; direction: ltr\">Feuertod in Dessauer Polizeizelle : Fall Oury Jalloh wird nicht erneut aufgerollt via mzwebde Die Generalstaatsanwaltschaft in Sachsen Anhalt hat richtig entschieden . Die Antifa wird dennoch ihren jährlichen Rummel im Januar in Dessau wiederholen ! Von mir gab ein klares NEIN zum Migrationspakt ! Die Argumente der Altparteien für diesen Pakt waren hanebüchend ! Zoff um Schnüffel Fibel für Erzieher Mädchen tragen Kleider und haben Zöpfe und schon haben sie rechtslastige Elternhäuser ! Auch die Nazis und DDR Kommunisten schnüffelten die Gesinnung der Eltern über deren Kinder aus . Unglaublich ! Zwischenfall im Sozialamt : Mann fordert Geld und will Schreibtisch umstoßen via mzwebde In meiner Heimatstadt Dessau ! Ein Mann aus dem westafrikanischen Binnenstaat Niger . Warum ist er hier ? Was will er hier ? Er fordert aggressiv Geld ! Ab nach Hause ! Protestbewegung in Region angekommen ? \n",
       "<mark class=\"entity\" style=\"background: yellow; padding: 0.45em 0.6em; margin: 0 0.25em; line-height: 1; border-radius: 0.35em;\">\n",
       "    : Gelbe Westen hängen an Autobahnbrücken der A 9 via mzwebde via volksstimme Die CDU sollte sich an ihre konservativen Werte erinnern und nicht Konservative aus den eigenen Reihen kaltstellen ! Gauland : Bundesregierung versucht ganz bewusst die Öffentlichkeit zu täuschen Die Bundesregierung täuscht bewusst das eigene Volk und die Systempresse unterstützt das ! Unglückliche Ausschreibung : Landkreis sucht Sachbearbeiter für Ausländerjagdscheine via mzwebde DGB\n",
       "    <span style=\"font-size: 0.8em; font-weight: bold; line-height: 1; border-radius: 0.35em; text-transform: uppercase; vertical-align: middle; margin-left: 0.5rem\">P|1</span>\n",
       "</mark>\n",
       " vermietet keine Räume mehr an Antifa via junge freiheit Na, da bin ich aber gespannt ! Interessant ist, dass der DGB überhaupt Räume an die ANTIFA vermietet hatte ! Wurden dort auch die Gewalt Aktionen der ANTIFA geplant ? Kommt spät, aber kommt ! Ich hoffe, dass andere Unternehmen folgen ! Ein Grund für mich, mal am kommenden Wochenende ein Krombacher zu probieren . Die SPD im Sinkflug ! Erster Bundestagsabgeordneter verlässt Partei und Fraktion . Da sind Auflösungserscheinungen im Anmarsch . Ich bin mir sicher, dass er nicht der einzige sein wird . Global Compact for Migration : Der Deutsche Bundestag möge beschließen, dass die Bundesregierung dem globalen Migrati Der Migrationspakt, wenn unterzeichnet, wird bindend für deutsche Gerichte . Alles andere ist Augenwischerei . Mich wundert nur, warum die CDU im Landtag sich von 5 Grünen vorführen lässt, obwohl sich die Landes CDU anders platziert hat ! Nur die AfD hat dazu eine klare Position ! Susannas Mörder Ali 3 Anklagen wegen Mord, Vergewaltigung, Raub Serientäter ! Ich bin auf das Urteil gespannt ! Paukenschlag : SPD Stadtchef tritt aus der Partei aus SPD im freien Fall ! 2019 sind Europa und Kommunalwahlen im LSA . ich bin gespannt ! AfD : 20 ! Gut so Trotz Neuland Effekt und Sabotage Gerüchten : Petition zum UN Migrationspakt nimmt Hürde von 50 000 Unterschriften via China Welt News Bitte weiter sammeln ! Global Compact for Migration : Der Deutsche Bundestag möge beschließen, dass die Bundesregierung dem globalen Migrati Nicht locker lassen ! Das sollten mehr als 100 000 Unterschriften werden ! Feine Sahne Fischfilet auszuladen war eine richtige Entscheidung ! Das BAUHAUS darf für Extremismus keine Bühne sein ! Ich bin stolz darauf, den Stein dazu ins Rollen gebracht zu haben und ich würde es immer wieder tun ! Extremismus darf keine Plattform bekommen ! Am 12 11 2018 war die Geburtsstunde des Wahlrechts für Frauen ! Eine sehr große Errungenschaft . 100 Jahre ist das her ! Das war der erste richtige Schritt zur Gleichberechtigung der Frauen ! Auch aus diesem Grund gehört der Islam nicht nach Deutschland und Europa ! Feuertod in Dessauer Polizeizelle : Fall Oury Jalloh wird nicht erneut aufgerollt via mzwebde Die Generalstaatsanwaltschaft in Sachsen Anhalt hat richtig entschieden . Die Antifa wird dennoch ihren jährlichen Rummel im Januar in Dessau wiederholen ! Von mir gab ein klares NEIN zum Migrationspakt ! Die Argumente der Altparteien für diesen Pakt waren hanebüchend ! Zoff um Schnüffel Fibel für Erzieher Mädchen tragen Kleider und haben Zöpfe und schon haben sie rechtslastige Elternhäuser ! Auch die Nazis und DDR Kommunisten schnüffelten die Gesinnung der Eltern über deren Kinder aus . Unglaublich ! Zwischenfall im Sozialamt : Mann fordert Geld und will Schreibtisch umstoßen via mzwebde In meiner Heimatstadt Dessau ! Ein Mann aus dem westafrikanischen Binnenstaat Niger . Warum ist er hier ? Was will er hier ? Er fordert aggressiv Geld ! Ab nach Hause ! Protestbewegung in Region angekommen ? \n",
       "<mark class=\"entity\" style=\"background: yellow; padding: 0.45em 0.6em; margin: 0 0.25em; line-height: 1; border-radius: 0.35em;\">\n",
       "    : Gelbe Westen hängen an Autobahnbrücken der A 9 via mzwebde via volksstimme Die CDU sollte sich an ihre konservativen Werte erinnern und nicht Konservative aus den eigenen Reihen kaltstellen ! Gauland : Bundesregierung versucht ganz bewusst die Öffentlichkeit zu täuschen Die Bundesregierung täuscht bewusst das eigene Volk und die Systempresse unterstützt das ! Unglückliche Ausschreibung : Landkreis sucht Sachbearbeiter für Ausländerjagdscheine via mzwebde DGB\n",
       "    <span style=\"font-size: 0.8em; font-weight: bold; line-height: 1; border-radius: 0.35em; text-transform: uppercase; vertical-align: middle; margin-left: 0.5rem\">P|2</span>\n",
       "</mark>\n",
       " vermietet keine Räume mehr an Antifa via junge freiheit Na, da bin ich aber gespannt ! Interessant ist, dass der DGB überhaupt Räume an die ANTIFA vermietet hatte ! Wurden dort auch die Gewalt Aktionen der ANTIFA geplant ? Kommt spät, aber kommt ! Ich hoffe, dass andere Unternehmen folgen ! Ein Grund für mich, mal am kommenden Wochenende ein Krombacher zu probieren . Die SPD im Sinkflug ! Erster Bundestagsabgeordneter verlässt Partei und Fraktion . Da sind Auflösungserscheinungen im Anmarsch . Ich bin mir sicher, dass er nicht der einzige sein wird . Global Compact for Migration : Der Deutsche Bundestag möge beschließen, dass die Bundesregierung dem globalen Migrati Der Migrationspakt, wenn unterzeichnet, wird bindend für deutsche Gerichte . Alles andere ist Augenwischerei . Mich wundert nur, warum die CDU im Landtag sich von 5 Grünen vorführen lässt, obwohl sich die Landes CDU anders platziert hat ! Nur die AfD hat dazu eine klare Position ! Susannas Mörder Ali 3 Anklagen wegen Mord, Vergewaltigung, Raub Serientäter ! Ich bin auf das Urteil gespannt ! Paukenschlag : SPD Stadtchef tritt aus der Partei aus SPD im freien Fall ! 2019 sind Europa und Kommunalwahlen im LSA . ich bin gespannt ! AfD : 20 ! Gut so Trotz Neuland Effekt und Sabotage Gerüchten : Petition zum UN Migrationspakt nimmt Hürde von 50 000 Unterschriften via China Welt News Bitte weiter sammeln ! Global Compact for Migration : Der Deutsche Bundestag möge beschließen, dass die Bundesregierung dem globalen Migrati Nicht locker lassen ! Das sollten mehr als 100 000 Unterschriften werden ! Feine Sahne Fischfilet auszuladen war eine richtige Entscheidung ! Das BAUHAUS darf für Extremismus keine Bühne sein ! Ich bin stolz darauf, den Stein dazu ins Rollen gebracht zu haben und ich würde es immer wieder tun ! Extremismus darf keine Plattform bekommen ! Am 12 11 2018 war die Geburtsstunde des Wahlrechts für Frauen ! Eine sehr große Errungenschaft . 100 Jahre ist das her ! Das war der erste richtige Schritt zur Gleichberechtigung der Frauen ! Auch aus diesem Grund gehört der Islam nicht nach Deutschland und Europa ! Global Compact for Migration : Der Deutsche Bundestag möge beschließen, dass die Bundesregierung dem globalen Migrati Gestern war Volkstrauertag und unser AfD Kreisverband Stadt Dessau Roßlau gedachte der Toten der Kriege und Gewaltherrschaften ! Fahrverbot auf einer Autobahn A40 in Essen in einem Industrieland wie Deutschland ! Will man mit aller Macht unsere Wirtschaft kaputt machen ? Hoffentlich wachen jetzt die Wähler auf ! Es ist nicht mehr nachvollziehbar, die A40 ist die wichtigste Autobahnachse durch das Ruhrgebiet Unglaublich ! Es wird immer schlimmer Unterschrieben : Initiative Migrationspakt sofort stoppen via oPetition Die totale Zäsur ! Mal eine Kuhherde an Messstationen vorbei treiben ! Ich glaube, diese Stationen explodieren dann . Unglaublich, wohin diese Klima Idioten steuern . Schlimm dabei ist nur, es auch Menschen gibt, daran glauben . Evtl . meiden diese ab heute Rinderrouladen zum Klimaschutz Messerstecherei auf dem Schulhof : Verdächtiger kommt vor den Haftrichter via mzwebde Ohne weitere Worte ! Messerstecher aus anderen Kulturkreisen gehören zum Alltag in Deutschland ! Traurig ! Wir schaffen das NICHT , Frau Merkel ! Schlimm ! Neuer Ärger um Feine Sahne Fischfilet : Journalisten wird Zutritt zu Konzert untersagt via mzwebde Wenn Journalisten im Vorfeld nicht so berichten, wie es d .linksextreme Band FSF wünscht, bleiben sie halt draußen ! Diese Heringstruppe gehört auf Müll Das ist die moralische Seite der Verantwortlichen in Wittenberg ! Moral scheint bei denen nicht zu existieren Schwarzfahrer verblüfft Polizisten : Fünf Promille und keine Ausfallerscheinungen via mzwebde O Gott ! Ich wäre tot ! Brandanschlag in Wittenberg : Was wird mit dem kaputten Flüchtlingsboot ? via mzwebde Abgesehen davon, dass dieser Brandanschlag zu verurteilen ist, habe ich für Verschrottung gestimmt ! Sachbeschädigung ist und bleibt eine Straftat ! So ein Affentheater : Warum die CDU Versammlung völlig aus dem Ruder lief via mzwebde Jetzt zerlegt sich die CDU Die AfD wird sich entschieden gegen den Migrationspakt stellen ! Das sind wir unserer Nation schuldig ! Wir dürfen kein Multikulti unseren Kindern überlassen ! Aufrichtig kämpfen wir für unser Volk, für unsere Heimat und kulturellen Werte ! Ihnen wurde das Rederecht verwehrt ? Das geht gar nicht ! Gerade die AfD setzt sich massiv gegen den Antisemitismus ein ! Wieder ein Beispiel von bezahlter Demokratie ! Maulkorb für AfD Spitzenfunktionär ! Bin gespannt, wer noch alles folgen wird ! Unglaublich ! Ärger bei Familie Ritter : Sohn soll Kaninchen getötet und Polizisten bedroht haben via mzwebde Richtig so ! Auch deutsche Ganoven müssen nach Recht und Gesetz verurteilt werden ! ist aus meiner Sicht schon mal ein Schritt in richtige Richtung ! Dennoch muss Lehrermangel massiv durch qualifizierte Lehrer mit Hochschulabschluss abgebaut werden ! Wenn es nach mir gehen würde, einheitliches Bildungssystem in ganz Deutschland und die Bildung zum Bund ! Konzert von Feine Sahne Fischfilet in Dessau : Anders als geplant via SPIEGELONLINE Diese linksextreme Punkband verbieten ! Mit Kunst hat nichts zu tun ! Wer in Liedtexten zur Gewalt gegen Polizei aufruft, darf keine Plattform in Gesellschaft haben Alles beginnt mit Herkunft weshalb Ostdeutschland sich zur Provokation entwickelt NZZ Sehr gut beschrieben ! Mehr Schulabgänger scheitern : Jeder neunte bleibt in Sachsen Anhalt ohne Abschluss via mzwebde Kein Wunder ! Massenhaft fallen aufgrund des Lehrermangels Unterrichtsstunden aus ! Das Bildungssystem hat versagt ! Punk und Plasteflaschen : Feine Sahne Fischfilet geben ausverkauftes Konzert in Dessau via mzwebde Endlich eine kleine Richtigstellung . die AfD hatte schon vor der CDU getobt ! Von Toben kann aber keine Rede sein, Protest wäre richtiger ! Sanktion vom Saalekreis : Warum Sebastian Striegel Gutscheine für Flüchtlinge torpediert via mzwebde Grüner Landtagsabgeordneter torpediert Gutschein Methode bei Flüchtlingen durch Tausch gegen Bargeld ! Was wird mit diesem Bargeld jetzt gekauft ? Wie konnte das passieren ? : Toter Zeuge nach drei Tagen auf Gerichtstoilette entdeckt via mzwebde Was es so alles gibt ! Fraktionssitzung : Union will die AfD beim UN Migrationspakt stellen via welt Es fragt sich, wer wen stellt ! Das von der Union geforderte Einwanderungsgesetz entpuppt sich als populistische Makulatur ! Live Ticker Feine Sahne Konzert : Ex Bauhaus Direktor fordert Robra Rücktritt via mzwebde Donnerwetter ! Da sollten ganz andere zurücktreten . Ohne die AfD wäre dieser Fall unter den Tisch gekehrt worden ! Von Notwehr seitens des Syriers sprach seinerzeit die Staatsanwaltschaft, obwohl der Polizeibericht es anders beschrieb . Unser Kampf auf der Straße hat sich gelohnt ! Videobeweise am Arsenal : Tragödie um Marcus ist ausermittelt via mzwebde Endlich kommt Bewegung in diesen Fall ! Nachdem das Überwachungsvideo veröffentlicht wurde, erkannte es auch die Justiz, dass sie mit Unwahrheiten nicht weiterkommt Wenn ein Berufsschullehrer Feine Sahne Fischfilet hofiert und meinen Auftritt im Stadtrat als AfD würgt bezeichnet, dann sind die Grenzen im neutralen Bildungssystem überschritten ! Hier platziert sich ein Lehrer auf die Seite des Linksextremismus ! Ja Frau Steinbach ! Davon können wir noch in Deutschland träumen ! Aber das Bild Deutschland wird Puzzle für Puzzle wieder hergestellt ! Dafür sorgt die AfD ! Wir wollen Frieden mit allen Völkern und innere Sicherheit, keinen Extremismus und keine Schändung unserer Sozialsysteme ! Wieder ein Beweis dafür, das die AfD nicht antisemitisch ist ! Im Gegenteil, wir haben viele Juden in unseren Reihen ! Antisemistisch sind aber Islamisten, die in Scharen nach Deutschland kommen und als Refugi s Welcome gefeiert werden ! Schluss damit ! Auch ich sage nein zum Migrationspakt ! Schon jetzt haben die Bundesregierung und Bundesländer die Kontrolle über die Einwanderung verloren ! Selbst das BKA analysiert unsichere Zahlen . Deutschland braucht ein Einwanderungsgesetz nach kanadischem Muster und sichere Grenzen Auftritt linker Band verboten : Bauhaus Chefin bekräftigt Angst vor rechten Angriffen via mzwebde Die AfD fühlt sich hier nicht angesprochen, von ihr ging noch nie Gewalt aus ! Im Gegenteil, auf unseren Demos brauchen Polizisten keine Helme tragen !</div></span>"
      ],
      "text/plain": [
       "<IPython.core.display.HTML object>"
      ]
     },
     "metadata": {},
     "output_type": "display_data"
    }
   ],
   "source": [
    "visualize(78180)"
   ]
  },
  {
   "cell_type": "code",
   "execution_count": 44,
   "metadata": {},
   "outputs": [
    {
     "name": "stdout",
     "output_type": "stream",
     "text": [
      "(0, 3341)\n"
     ]
    }
   ],
   "source": [
    "ex, options = res.render(text, f\"{doc.autor.name}\", viz, pres=True, online=True)"
   ]
  },
  {
   "cell_type": "code",
   "execution_count": 46,
   "metadata": {},
   "outputs": [
    {
     "data": {
      "text/html": [
       "<span class=\"tex2jax_ignore\"><h2 style=\"margin: 0\">user-input analysis</h2>\n",
       "\n",
       "<div class=\"entities\" style=\"line-height: 2.5; direction: ltr\">Sehr geehrter Herr Präsident ! Sehr geehrte Kolleginnen und Kollegen ! Die Rede von Herrn Brandner zwingt mich, von meinem Manuskript etwas abzuweichen . Ich möchte hier eines klarstellen : Für uns als Fraktion ich glaube, dass das auch Zustimmung bei den anderen demokratischen Fraktionen findet verbitte ich mir den Begriff Altpartei . Das ist Nazisprech . Ich appelliere an das Präsidium, sich mit dieser Sprachverwendung hier zu beschäftigen . Wir wollen uns nun einem ernsten Thema angemessen nähern . \n",
       "<mark class=\"entity\" style=\"background: yellow; padding: 0.45em 0.6em; margin: 0 0.25em; line-height: 1; border-radius: 0.35em;\">\n",
       "    Nein, ich will das im Zusammenhang vortragen . Er mag gerne eine Kurzintervention machen . Wir Linken kritisieren seit Beginn der Pandemie die Schieflagen und Fehler in der Gesetzgebung zur Bekämpfung der Pandemie . Soloselbstständige wurden im Stich gelassen . Für Kultur , Veranstaltungs und Reisebranche gibt es keine tragfähigen Lösungen . Arbeitnehmerinnen und Arbeitnehmer müssen über Monate mit erheblich weniger Geld auskommen .\n",
       "    <span style=\"font-size: 0.8em; font-weight: bold; line-height: 1; border-radius: 0.35em; text-transform: uppercase; vertical-align: middle; margin-left: 0.5rem\">P|1</span>\n",
       "</mark>\n",
       " Arbeitslose werden mit den Mehrausgaben für Hygieneartikel und Gesundheitsvorsorge alleingelassen . Und jetzt schlagen auch noch erste sogenannte Wirtschaftsexperten Rentenkürzungen vor . Das, liebe Kolleginnen und Kollegen, sind die Probleme der Menschen da draußen, um die wir uns hier kümmern müssten . Stattdessen sorgen Sie sich zum Beispiel ganz besonders um die Fleischindustrie und stellen in Ihrem Antrag in den Raum, dass diese Branche besser von einem Lockdown hätte ausgenommen werden sollen . Unternehmen, die durch fahrlässiges Verhalten und daraus resultierende Großausbrüche enorme Folgekosten für die Allgemeinheit verursacht haben und nebenbei Tausende Mitarbeiterinnen und Mitarbeiter schamlos Risiken ausgesetzt haben, sind diejenigen, die Ihre Unterstützung genießen . Damit zeigen Sie mal wieder, wessen Interessen Sie hier vertreten, nämlich die des Kapitals . Werfen wir doch mal einen kurzen Blick auf jene Länder, in denen Ihre Brüder im Geiste regieren . Trump führt wie Sie einen Kampf der Gerechten gegen ein Stück Stoff und gegen zu starke Einschränkungen für den freien Markt . Seine Bilanz : über 220 000 Tote und eine völlig am Boden liegende Wirtschaft . Oder Bolsonaro in Brasilien : über 150 000 Tote, ganz besonders aus den ärmeren Schichten und bei der indigenen Bevölkerung . Viktor Orb n entmachtet per Notverordnungsrecht das ungarische Parlament, untersagt die Einreise von Touristinnen und Touristen mit erheblichen Konsequenzen für die Tourismusbranche und führt oh Wunder ! eine Maskenpflicht ein . Trotzdem sind die Infektionszahlen dort in die Höhe geschnellt . Wir können konstatieren : Wo Rechtspopulisten regieren, herrscht das Chaos, und die Leidtragenden sind stets die Schwächsten der Gesellschaft . Das ist Ihre Politik ! Nicht fehlen darf in Ihrem Antrag verschwörungsideologisches Geraune um Bill Gates und eine bewusste Herbeiführung der Pandemie . Als parlamentarischer Arm der Trollarmeen im Netz wollen Sie wieder einmal Ihr unverantwortliches Spiel der gesellschaftlichen Spaltung spielen . Aber eine Pandemie ist kein Spiel . Wie ja Ihr Fraktionsvorsitzender gesagt haben soll : Der AfD geht es gut, wenn es Deutschland schlecht geht . Und daran setzen Sie alles . Ich komme zum Schluss . Wir Linken sagen Ja zu einer kritischen Überprüfung der Coronamaßnahmen, aber ganz klar Nein zu Ihrem völlig unbrauchbaren Antrag . Vielen Dank .</div></span>"
      ],
      "text/plain": [
       "<IPython.core.display.HTML object>"
      ]
     },
     "metadata": {},
     "output_type": "display_data"
    }
   ],
   "source": [
    "from spacy import displacy \n",
    "displacy.render(ex, style=\"ent\", manual=True, jupyter=True, options=options)"
   ]
  },
  {
   "cell_type": "code",
   "execution_count": 42,
   "metadata": {},
   "outputs": [
    {
     "name": "stdout",
     "output_type": "stream",
     "text": [
      "(0, 3341)\n"
     ]
    },
    {
     "data": {
      "text/html": [
       "<span class=\"tex2jax_ignore\"><h2 style=\"margin: 0\">user-input analysis</h2>\n",
       "\n",
       "<div class=\"entities\" style=\"line-height: 2.5; direction: ltr\">Sehr geehrter Herr Präsident ! Sehr geehrte Kolleginnen und Kollegen ! Die Rede von Herrn Brandner zwingt mich, von meinem Manuskript etwas abzuweichen . Ich möchte hier eines klarstellen : Für uns als Fraktion ich glaube, dass das auch Zustimmung bei den anderen demokratischen Fraktionen findet verbitte ich mir den Begriff Altpartei . Das ist Nazisprech . Ich appelliere an das Präsidium, sich mit dieser Sprachverwendung hier zu beschäftigen . Wir wollen uns nun einem ernsten Thema angemessen nähern . Nein, ich will das im Zusammenhang vortragen . Er mag gerne eine Kurzintervention machen . Wir Linken kritisieren seit Beginn der Pandemie die Schieflagen und Fehler in der Gesetzgebung zur Bekämpfung der Pandemie . Soloselbstständige wurden im Stich gelassen . Für Kultur , Veranstaltungs und Reisebranche gibt es keine tragfähigen Lösungen . Arbeitnehmerinnen und Arbeitnehmer müssen über Monate mit erheblich weniger Geld auskommen . Arbeitslose werden mit den Mehrausgaben für Hygieneartikel und Gesundheitsvorsorge alleingelassen . Und jetzt schlagen auch noch erste sogenannte Wirtschaftsexperten Rentenkürzungen vor . Das, liebe Kolleginnen und Kollegen, sind die Probleme der Menschen da draußen, um die wir uns hier kümmern müssten . Stattdessen sorgen Sie sich zum Beispiel ganz besonders um die Fleischindustrie und stellen in Ihrem Antrag in den Raum, dass diese Branche besser von einem Lockdown hätte ausgenommen werden sollen . Unternehmen, die durch fahrlässiges Verhalten und daraus resultierende Großausbrüche enorme Folgekosten für die Allgemeinheit verursacht haben und nebenbei Tausende Mitarbeiterinnen und Mitarbeiter schamlos Risiken ausgesetzt haben, sind diejenigen, die Ihre Unterstützung genießen . Damit zeigen Sie mal wieder, wessen Interessen Sie hier vertreten, nämlich die des Kapitals . Werfen wir doch mal einen kurzen Blick auf jene Länder, in denen Ihre Brüder im Geiste regieren . Trump führt wie Sie einen Kampf der Gerechten gegen ein Stück Stoff und gegen zu starke Einschränkungen für den freien Markt . Seine Bilanz : über 220 000 Tote und eine völlig am Boden liegende Wirtschaft . Oder Bolsonaro in Brasilien : über 150 000 Tote, ganz besonders aus den ärmeren Schichten und bei der indigenen Bevölkerung . Viktor Orb n entmachtet per Notverordnungsrecht das ungarische Parlament, untersagt die Einreise von Touristinnen und Touristen mit erheblichen Konsequenzen für die Tourismusbranche und führt oh Wunder ! eine Maskenpflicht ein . Trotzdem sind die Infektionszahlen dort in die Höhe geschnellt . Wir können konstatieren : Wo Rechtspopulisten regieren, herrscht das Chaos, und die Leidtragenden sind stets die Schwächsten der Gesellschaft . Das ist Ihre Politik ! Nicht fehlen darf in Ihrem Antrag verschwörungsideologisches Geraune um Bill Gates und eine bewusste Herbeiführung der Pandemie . Als parlamentarischer Arm der Trollarmeen im Netz wollen Sie wieder einmal Ihr unverantwortliches Spiel der gesellschaftlichen Spaltung spielen . Aber eine Pandemie ist kein Spiel . Wie ja Ihr Fraktionsvorsitzender gesagt haben soll : Der AfD geht es gut, wenn es Deutschland schlecht geht . Und daran setzen Sie alles . Ich komme zum Schluss . Wir Linken sagen Ja zu einer kritischen Überprüfung der Coronamaßnahmen, aber ganz klar Nein zu Ihrem völlig unbrauchbaren Antrag . Vielen Dank .</div></span>"
      ],
      "text/plain": [
       "<IPython.core.display.HTML object>"
      ]
     },
     "metadata": {},
     "output_type": "display_data"
    }
   ],
   "source": [
    "res.visualize_jupyter(text, viz, pres=True, online=True)"
   ]
  },
  {
   "cell_type": "code",
   "execution_count": null,
   "metadata": {},
   "outputs": [],
   "source": [
    "content_analysis.res_to_disk()"
   ]
  }
 ],
 "metadata": {
  "kernelspec": {
   "display_name": "Python 3",
   "language": "python",
   "name": "python3"
  },
  "language_info": {
   "codemirror_mode": {
    "name": "ipython",
    "version": 3
   },
   "file_extension": ".py",
   "mimetype": "text/x-python",
   "name": "python",
   "nbconvert_exporter": "python",
   "pygments_lexer": "ipython3",
   "version": "3.6.9"
  }
 },
 "nbformat": 4,
 "nbformat_minor": 4
}
